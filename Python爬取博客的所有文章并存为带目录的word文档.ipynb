{
 "cells": [
  {
   "cell_type": "markdown",
   "metadata": {},
   "source": [
    "# 利用python爬取博客上单一作者的所有文章保存到本地\n",
    "看上博客上一个作者的文章，想一次性下载到一个word文件中，并且可以设置好目录，通过word的“导航窗格”快速定位单篇文章。一劳永逸，从此再也不用去博客上一篇一篇地翻阅了。整理一下步骤：\n",
    "1. 先获取到所有文章的标题、发表日期、链接\n",
    "2. 通过链接获取文章的内容\n",
    "3. 将文章标题作为“1级”，发表日期和内容作为正文写入word文件\n",
    "4. 保存wrod文件\n",
    "\n",
    "下面就按照以上步骤进行操作。"
   ]
  },
  {
   "cell_type": "markdown",
   "metadata": {},
   "source": [
    "先进入到目标博客的主页，点击“博文目录”，这样就在网址栏看到“blog.sina.com.cn/s/articlelist_5119330124_0_1.html” 。再点击下一页，可以看到网址末尾的“1”变成了“2”。这样我们就知道所有页对应的网址了（尾号从1到5）。"
   ]
  },
  {
   "cell_type": "markdown",
   "metadata": {},
   "source": [
    "先挑第一页的网址，定位我们需要的信息，以便后续批量爬取。\n",
    "\n",
    "在博文的标题和发表日期上分别点右键，选择“检查”.\n",
    "\n",
    "可见博文标题和博文链接都位于`class=\"atc_title\"`下面，发表时间位于`class=\"atc_tm SG_txtc\"`下面。因此使用`soup.select('.atc_title')`就可以获取当前网页的所有博文的链接和标题；使用`soup.select('.atc_tm')`可获取所有博文的发表日期。"
   ]
  },
  {
   "cell_type": "code",
   "execution_count": 2,
   "metadata": {},
   "outputs": [
    {
     "name": "stdout",
     "output_type": "stream",
     "text": [
      "请输入博客作者的网页：https://blog.sina.com.cn/s/articlelist_1223240311_0_1.html\n"
     ]
    }
   ],
   "source": [
    "import requests\n",
    "from bs4 import BeautifulSoup\n",
    "#测试数据：http://blog.sina.com.cn/s/articlelist_5119330124_0_1.html\n",
    "url=input(\"请输入博客作者的网页：\")"
   ]
  },
  {
   "cell_type": "code",
   "execution_count": 3,
   "metadata": {},
   "outputs": [],
   "source": [
    "wb_data = requests.get(url)\n",
    "soup = BeautifulSoup(wb_data.content)"
   ]
  },
  {
   "cell_type": "code",
   "execution_count": 4,
   "metadata": {
    "scrolled": true
   },
   "outputs": [
    {
     "data": {
      "text/plain": [
       "[<span class=\"atc_title\">\n",
       " <a href=\"//blog.sina.com.cn/s/blog_48e92a770102z5i2.html\" target=\"_blank\" title=\"\">《中国人在德国》连载265《德国是…</a></span>,\n",
       " <span class=\"atc_title\">\n",
       " <a href=\"//blog.sina.com.cn/s/blog_48e92a770102z5i0.html\" target=\"_blank\" title=\"\">《中国人在德国》连载264《在德国…</a></span>,\n",
       " <span class=\"atc_title\">\n",
       " <a href=\"//blog.sina.com.cn/s/blog_48e92a770102z5hz.html\" target=\"_blank\" title=\"\">《中国人在德国》连载263《在德国…</a></span>,\n",
       " <span class=\"atc_title\">\n",
       " <a href=\"//blog.sina.com.cn/s/blog_48e92a770102z5hv.html\" target=\"_blank\" title=\"\">《中国人在德国》连载262《德国，…</a></span>,\n",
       " <span class=\"atc_title\">\n",
       " <a href=\"//blog.sina.com.cn/s/blog_48e92a770102z5hu.html\" target=\"_blank\" title=\"\">《中国人在德国》连载261《在教授…</a></span>,\n",
       " <span class=\"atc_title\">\n",
       " <a href=\"//blog.sina.com.cn/s/blog_48e92a770102z5ht.html\" target=\"_blank\" title=\"\">《中国人在德国》连载260《德国污…</a></span>,\n",
       " <span class=\"atc_title\">\n",
       " <a href=\"//blog.sina.com.cn/s/blog_48e92a770102z5hs.html\" target=\"_blank\" title=\"\">《中国人在德国》连载259《骗我的…</a></span>,\n",
       " <span class=\"atc_title\">\n",
       " <a href=\"//blog.sina.com.cn/s/blog_48e92a770102z5hr.html\" target=\"_blank\" title=\"\">《中国人在德国》连载258《在德国…</a></span>,\n",
       " <span class=\"atc_title\">\n",
       " <a href=\"//blog.sina.com.cn/s/blog_48e92a770102z5hq.html\" target=\"_blank\" title=\"\">《中国人在德国》连载257《我是一…</a></span>,\n",
       " <span class=\"atc_title\">\n",
       " <a href=\"//blog.sina.com.cn/s/blog_48e92a770102z5ho.html\" target=\"_blank\" title=\"\">《中国人在德国》连载256《德国不…</a></span>,\n",
       " <span class=\"atc_title\">\n",
       " <a href=\"//blog.sina.com.cn/s/blog_48e92a770102z5hn.html\" target=\"_blank\" title=\"\">《中国人在德国》连载255《我们的…</a></span>,\n",
       " <span class=\"atc_title\">\n",
       " <a href=\"//blog.sina.com.cn/s/blog_48e92a770102z5hm.html\" target=\"_blank\" title=\"\">《中国人在德国》连载254《我更看…</a></span>,\n",
       " <span class=\"atc_title\">\n",
       " <a href=\"//blog.sina.com.cn/s/blog_48e92a770102z5hj.html\" target=\"_blank\" title=\"\">《中国人在德国》连载253《餐厅楼…</a></span>,\n",
       " <span class=\"atc_title\">\n",
       " <a href=\"//blog.sina.com.cn/s/blog_48e92a770102z5hi.html\" target=\"_blank\" title=\"\">《中国人在德国》连载252《读硕士…</a></span>,\n",
       " <span class=\"atc_title\">\n",
       " <a href=\"//blog.sina.com.cn/s/blog_48e92a770102z5hh.html\" target=\"_blank\" title=\"\">《中国人在德国》连载251《坚持到…</a></span>,\n",
       " <span class=\"atc_title\">\n",
       " <a href=\"//blog.sina.com.cn/s/blog_48e92a770102z5hd.html\" target=\"_blank\" title=\"\">《中国人在德国》连载250《德国对…</a></span>,\n",
       " <span class=\"atc_title\">\n",
       " <a href=\"//blog.sina.com.cn/s/blog_48e92a770102z5h7.html\" target=\"_blank\" title=\"\">《中国人在德国》连载249《中德最…</a></span>,\n",
       " <span class=\"atc_title\">\n",
       " <a href=\"//blog.sina.com.cn/s/blog_48e92a770102z5h4.html\" target=\"_blank\" title=\"\">《中国人在德国》连载248《南北朝…</a></span>,\n",
       " <span class=\"atc_title\">\n",
       " <a href=\"//blog.sina.com.cn/s/blog_48e92a770102z5h3.html\" target=\"_blank\" title=\"\">《中国人在德国》连载247《我是这…</a></span>,\n",
       " <span class=\"atc_title\">\n",
       " <a href=\"//blog.sina.com.cn/s/blog_48e92a770102z5gy.html\" target=\"_blank\" title=\"\">《中国人在德国》连载246《我读了…</a></span>,\n",
       " <span class=\"atc_title\">\n",
       " <a href=\"//blog.sina.com.cn/s/blog_48e92a770102z5gt.html\" target=\"_blank\" title=\"\">《中国人在德国》连载245《我在德…</a></span>,\n",
       " <span class=\"atc_title\">\n",
       " <a href=\"//blog.sina.com.cn/s/blog_48e92a770102z5gs.html\" target=\"_blank\" title=\"\">《中国人在德国》连载244《斯特加…</a></span>,\n",
       " <span class=\"atc_title\">\n",
       " <a href=\"//blog.sina.com.cn/s/blog_48e92a770102z5gp.html\" target=\"_blank\" title=\"\">《中国人在德国》连载243《DSH不是…</a></span>,\n",
       " <span class=\"atc_title\">\n",
       " <a href=\"//blog.sina.com.cn/s/blog_48e92a770102z5g4.html\" target=\"_blank\" title=\"\">《中国人在德国》连载242《德国免…</a></span>,\n",
       " <span class=\"atc_title\">\n",
       " <a href=\"//blog.sina.com.cn/s/blog_48e92a770102z5fr.html\" target=\"_blank\" title=\"\">《中国人在德国》连载241《德国人…</a></span>,\n",
       " <span class=\"atc_title\">\n",
       " <a href=\"//blog.sina.com.cn/s/blog_48e92a770102z5fp.html\" target=\"_blank\" title=\"\">《中国人在德国》连载240《德国人…</a></span>,\n",
       " <span class=\"atc_title\">\n",
       " <a href=\"//blog.sina.com.cn/s/blog_48e92a770102z5fd.html\" target=\"_blank\" title=\"\">《中国人在德国》连载239《就从德…</a></span>,\n",
       " <span class=\"atc_title\">\n",
       " <a href=\"//blog.sina.com.cn/s/blog_48e92a770102z5fc.html\" target=\"_blank\" title=\"\">《中国人在德国》连载238《国内的…</a></span>,\n",
       " <span class=\"atc_title\">\n",
       " <a href=\"//blog.sina.com.cn/s/blog_48e92a770102z5f9.html\" target=\"_blank\" title=\"\">《中国人在德国》连载237《人，竟…</a></span>,\n",
       " <span class=\"atc_title\">\n",
       " <a href=\"//blog.sina.com.cn/s/blog_48e92a770102z5f6.html\" target=\"_blank\" title=\"\">《中国人在德国》连载236《都可以…</a></span>,\n",
       " <span class=\"atc_title\">\n",
       " <a href=\"//blog.sina.com.cn/s/blog_48e92a770102z5f5.html\" target=\"_blank\" title=\"\">《中国人在德国》连载235《在德国…</a></span>,\n",
       " <span class=\"atc_title\">\n",
       " <a href=\"//blog.sina.com.cn/s/blog_48e92a770102z5f4.html\" target=\"_blank\" title=\"\">《中国人在德国》连载234《从2010…</a></span>,\n",
       " <span class=\"atc_title\">\n",
       " <a href=\"//blog.sina.com.cn/s/blog_48e92a770102z5ez.html\" target=\"_blank\" title=\"\">《中国人在德国》连载233《在心里…</a></span>,\n",
       " <span class=\"atc_title\">\n",
       " <a href=\"//blog.sina.com.cn/s/blog_48e92a770102z5ew.html\" target=\"_blank\" title=\"\">《中国人在德国》连载232《我所谓…</a></span>,\n",
       " <span class=\"atc_title\">\n",
       " <a href=\"//blog.sina.com.cn/s/blog_48e92a770102z5es.html\" target=\"_blank\" title=\"\">《中国人在德国》连载231《没有最…</a></span>,\n",
       " <span class=\"atc_title\">\n",
       " <a href=\"//blog.sina.com.cn/s/blog_48e92a770102z5ep.html\" target=\"_blank\" title=\"\">《中国人在德国》连载230《我是这…</a></span>,\n",
       " <span class=\"atc_title\">\n",
       " <a href=\"//blog.sina.com.cn/s/blog_48e92a770102z5ei.html\" target=\"_blank\" title=\"\">《中国人在德国》连载229《只有我…</a></span>,\n",
       " <span class=\"atc_title\">\n",
       " <a href=\"//blog.sina.com.cn/s/blog_48e92a770102z5ec.html\" target=\"_blank\" title=\"\">《中国人在德国》连载228《帮一次…</a></span>,\n",
       " <span class=\"atc_title\">\n",
       " <a href=\"//blog.sina.com.cn/s/blog_48e92a770102z5e9.html\" target=\"_blank\" title=\"\">《中国人在德国》连载227《语言班…</a></span>,\n",
       " <span class=\"atc_title\">\n",
       " <a href=\"//blog.sina.com.cn/s/blog_48e92a770102z5e8.html\" target=\"_blank\" title=\"\">《中国人在德国》连载226《中德之…</a></span>,\n",
       " <span class=\"atc_title\">\n",
       " <a href=\"//blog.sina.com.cn/s/blog_48e92a770102z5e5.html\" target=\"_blank\" title=\"\">《中国人在德国》连载225《因为德…</a></span>,\n",
       " <span class=\"atc_title\">\n",
       " <a href=\"//blog.sina.com.cn/s/blog_48e92a770102z5e4.html\" target=\"_blank\" title=\"\">《中国人在德国》连载224《在德国…</a></span>,\n",
       " <span class=\"atc_title\">\n",
       " <a href=\"//blog.sina.com.cn/s/blog_48e92a770102z5e1.html\" target=\"_blank\" title=\"\">《中国人在德国》连载223《本来，…</a></span>,\n",
       " <span class=\"atc_title\">\n",
       " <a href=\"//blog.sina.com.cn/s/blog_48e92a770102z5dy.html\" target=\"_blank\" title=\"\">《中国人在德国》连载222《现在，…</a></span>,\n",
       " <span class=\"atc_title\">\n",
       " <a href=\"//blog.sina.com.cn/s/blog_48e92a770102z5dv.html\" target=\"_blank\" title=\"\">《中国人在德国》连载221《我会更…</a></span>,\n",
       " <span class=\"atc_title\">\n",
       " <a href=\"//blog.sina.com.cn/s/blog_48e92a770102z5dt.html\" target=\"_blank\" title=\"\">《中国人在德国》连载220《移民对…</a></span>,\n",
       " <span class=\"atc_title\">\n",
       " <a href=\"//blog.sina.com.cn/s/blog_48e92a770102z5dq.html\" target=\"_blank\" title=\"\">《中国人在德国》连载219《我从不…</a></span>,\n",
       " <span class=\"atc_title\">\n",
       " <a href=\"//blog.sina.com.cn/s/blog_48e92a770102z5dp.html\" target=\"_blank\" title=\"\">《中国人在德国》连载218《德国改…</a></span>,\n",
       " <span class=\"atc_title\">\n",
       " <a href=\"//blog.sina.com.cn/s/blog_48e92a770102z5di.html\" target=\"_blank\" title=\"\">《中国人在德国》连载217《你究竟…</a></span>,\n",
       " <span class=\"atc_title\">\n",
       " <a href=\"//blog.sina.com.cn/s/blog_48e92a770102z5dh.html\" target=\"_blank\" title=\"\">《中国人在德国》连载216《丧尽天…</a></span>]"
      ]
     },
     "execution_count": 4,
     "metadata": {},
     "output_type": "execute_result"
    }
   ],
   "source": [
    "#获取当页所有文章的标题和链接\n",
    "soup.select('.atc_title')"
   ]
  },
  {
   "cell_type": "code",
   "execution_count": 5,
   "metadata": {
    "scrolled": true
   },
   "outputs": [
    {
     "data": {
      "text/plain": [
       "[<span class=\"atc_tm SG_txtc\">2023-04-19 08:01</span>,\n",
       " <span class=\"atc_tm SG_txtc\">2023-04-17 08:03</span>,\n",
       " <span class=\"atc_tm SG_txtc\">2023-04-14 09:26</span>,\n",
       " <span class=\"atc_tm SG_txtc\">2023-04-12 08:16</span>,\n",
       " <span class=\"atc_tm SG_txtc\">2023-04-10 07:52</span>,\n",
       " <span class=\"atc_tm SG_txtc\">2023-04-07 08:29</span>,\n",
       " <span class=\"atc_tm SG_txtc\">2023-04-05 08:48</span>,\n",
       " <span class=\"atc_tm SG_txtc\">2023-04-03 08:22</span>,\n",
       " <span class=\"atc_tm SG_txtc\">2023-03-31 08:34</span>,\n",
       " <span class=\"atc_tm SG_txtc\">2023-03-29 08:25</span>,\n",
       " <span class=\"atc_tm SG_txtc\">2023-03-27 08:38</span>,\n",
       " <span class=\"atc_tm SG_txtc\">2023-03-24 08:46</span>,\n",
       " <span class=\"atc_tm SG_txtc\">2023-03-22 08:32</span>,\n",
       " <span class=\"atc_tm SG_txtc\">2023-03-20 08:31</span>,\n",
       " <span class=\"atc_tm SG_txtc\">2023-03-17 09:35</span>,\n",
       " <span class=\"atc_tm SG_txtc\">2023-03-15 08:34</span>,\n",
       " <span class=\"atc_tm SG_txtc\">2023-03-10 09:17</span>,\n",
       " <span class=\"atc_tm SG_txtc\">2023-03-08 09:10</span>,\n",
       " <span class=\"atc_tm SG_txtc\">2023-03-06 08:38</span>,\n",
       " <span class=\"atc_tm SG_txtc\">2023-03-03 08:35</span>,\n",
       " <span class=\"atc_tm SG_txtc\">2023-02-27 09:06</span>,\n",
       " <span class=\"atc_tm SG_txtc\">2023-02-24 09:14</span>,\n",
       " <span class=\"atc_tm SG_txtc\">2023-02-22 10:11</span>,\n",
       " <span class=\"atc_tm SG_txtc\">2023-01-30 11:47</span>,\n",
       " <span class=\"atc_tm SG_txtc\">2023-01-12 09:00</span>,\n",
       " <span class=\"atc_tm SG_txtc\">2023-01-10 09:56</span>,\n",
       " <span class=\"atc_tm SG_txtc\">2022-12-30 09:13</span>,\n",
       " <span class=\"atc_tm SG_txtc\">2022-12-28 10:02</span>,\n",
       " <span class=\"atc_tm SG_txtc\">2022-12-26 09:56</span>,\n",
       " <span class=\"atc_tm SG_txtc\">2022-12-23 10:11</span>,\n",
       " <span class=\"atc_tm SG_txtc\">2022-12-21 09:32</span>,\n",
       " <span class=\"atc_tm SG_txtc\">2022-12-19 08:17</span>,\n",
       " <span class=\"atc_tm SG_txtc\">2022-12-16 09:16</span>,\n",
       " <span class=\"atc_tm SG_txtc\">2022-12-14 08:20</span>,\n",
       " <span class=\"atc_tm SG_txtc\">2022-12-12 11:40</span>,\n",
       " <span class=\"atc_tm SG_txtc\">2022-12-09 11:23</span>,\n",
       " <span class=\"atc_tm SG_txtc\">2022-12-05 09:43</span>,\n",
       " <span class=\"atc_tm SG_txtc\">2022-12-02 11:15</span>,\n",
       " <span class=\"atc_tm SG_txtc\">2022-11-30 09:31</span>,\n",
       " <span class=\"atc_tm SG_txtc\">2022-11-28 09:25</span>,\n",
       " <span class=\"atc_tm SG_txtc\">2022-11-25 10:12</span>,\n",
       " <span class=\"atc_tm SG_txtc\">2022-11-23 13:35</span>,\n",
       " <span class=\"atc_tm SG_txtc\">2022-11-21 08:22</span>,\n",
       " <span class=\"atc_tm SG_txtc\">2022-11-18 09:25</span>,\n",
       " <span class=\"atc_tm SG_txtc\">2022-11-16 13:11</span>,\n",
       " <span class=\"atc_tm SG_txtc\">2022-11-14 13:17</span>,\n",
       " <span class=\"atc_tm SG_txtc\">2022-11-09 13:03</span>,\n",
       " <span class=\"atc_tm SG_txtc\">2022-11-07 13:43</span>,\n",
       " <span class=\"atc_tm SG_txtc\">2022-11-04 13:08</span>,\n",
       " <span class=\"atc_tm SG_txtc\">2022-11-02 13:09</span>]"
      ]
     },
     "execution_count": 5,
     "metadata": {},
     "output_type": "execute_result"
    }
   ],
   "source": [
    "#获取当页所有文章的发表时间\n",
    "soup.select('.atc_tm')"
   ]
  },
  {
   "cell_type": "markdown",
   "metadata": {},
   "source": [
    "如上获取的文章标题及链接信息是存在一个大列表中的。现在以第一个元素为例从中提取出链接和标题信息。观察发现链接位于`a`标签里的`href`里面，于是使用`select`方法选中`a`标签，可以看到结果是一个新的列表（如下）。"
   ]
  },
  {
   "cell_type": "code",
   "execution_count": 6,
   "metadata": {},
   "outputs": [
    {
     "data": {
      "text/plain": [
       "[<a href=\"//blog.sina.com.cn/s/blog_48e92a770102z5i2.html\" target=\"_blank\" title=\"\">《中国人在德国》连载265《德国是…</a>]"
      ]
     },
     "execution_count": 6,
     "metadata": {},
     "output_type": "execute_result"
    }
   ],
   "source": [
    "soup.select('.atc_title')[0].select('a')"
   ]
  },
  {
   "cell_type": "markdown",
   "metadata": {},
   "source": [
    "然后再从这个新列表中提取出链接和标题。使用`get(\"href\")`方法获得链接；使用`text`方法获得标题。"
   ]
  },
  {
   "cell_type": "code",
   "execution_count": 7,
   "metadata": {},
   "outputs": [
    {
     "data": {
      "text/plain": [
       "'//blog.sina.com.cn/s/blog_48e92a770102z5i2.html'"
      ]
     },
     "execution_count": 7,
     "metadata": {},
     "output_type": "execute_result"
    }
   ],
   "source": [
    "soup.select('.atc_title')[0].select('a')[0].get(\"href\")"
   ]
  },
  {
   "cell_type": "code",
   "execution_count": 8,
   "metadata": {},
   "outputs": [
    {
     "data": {
      "text/plain": [
       "'《中国人在德国》连载265《德国是…'"
      ]
     },
     "execution_count": 8,
     "metadata": {},
     "output_type": "execute_result"
    }
   ],
   "source": [
    "soup.select('.atc_title')[0].select('a')[0].text"
   ]
  },
  {
   "cell_type": "markdown",
   "metadata": {},
   "source": [
    "发表时间的获取就简单很多了，直接用`text`方法即可。"
   ]
  },
  {
   "cell_type": "code",
   "execution_count": 9,
   "metadata": {},
   "outputs": [
    {
     "data": {
      "text/plain": [
       "'2023-04-19 08:01'"
      ]
     },
     "execution_count": 9,
     "metadata": {},
     "output_type": "execute_result"
    }
   ],
   "source": [
    "soup.select('.atc_tm')[0].text"
   ]
  },
  {
   "cell_type": "markdown",
   "metadata": {},
   "source": [
    "单页的信息搞定，然后就可以批量处理了。使用`for`循环遍历所有页，然后逐个提取。因为我们已知作者的文章共有5页，所以直接使用`range(1,6)`。将最终的信息存入字典`all_links`。其中，“标题”作为键，文章链接和发表时间作为值。通过`len(all_links)`查看获取的文章链接数，一共211篇文章。"
   ]
  },
  {
   "cell_type": "code",
   "execution_count": 10,
   "metadata": {},
   "outputs": [],
   "source": [
    "#获取所有博客文章的链接\n",
    "import requests\n",
    "from bs4 import BeautifulSoup\n",
    "\n",
    "all_links = {}\n",
    "for i in range(1,6):\n",
    "    wb_data = requests.get(url)\n",
    "    soup = BeautifulSoup(wb_data.content)\n",
    "    links = soup.select('.atc_title')\n",
    "    times = soup.select('.atc_tm')\n",
    "    for i in range(len(links)):\n",
    "        http_link = links[i].select('a')[0].get('href')\n",
    "        c=\"https:\"\n",
    "        link=c+http_link\n",
    "        title = links[i].text.strip()\n",
    "        time = times[i].text\n",
    "        all_links[title] = [link, time] "
   ]
  },
  {
   "cell_type": "code",
   "execution_count": 11,
   "metadata": {},
   "outputs": [
    {
     "data": {
      "text/plain": [
       "50"
      ]
     },
     "execution_count": 11,
     "metadata": {},
     "output_type": "execute_result"
    }
   ],
   "source": [
    "len(all_links)"
   ]
  },
  {
   "cell_type": "code",
   "execution_count": 12,
   "metadata": {},
   "outputs": [
    {
     "data": {
      "text/plain": [
       "{'《中国人在德国》连载265《德国是…': ['https://blog.sina.com.cn/s/blog_48e92a770102z5i2.html',\n",
       "  '2023-04-19 08:01'],\n",
       " '《中国人在德国》连载264《在德国…': ['https://blog.sina.com.cn/s/blog_48e92a770102z5i0.html',\n",
       "  '2023-04-17 08:03'],\n",
       " '《中国人在德国》连载263《在德国…': ['https://blog.sina.com.cn/s/blog_48e92a770102z5hz.html',\n",
       "  '2023-04-14 09:26'],\n",
       " '《中国人在德国》连载262《德国，…': ['https://blog.sina.com.cn/s/blog_48e92a770102z5hv.html',\n",
       "  '2023-04-12 08:16'],\n",
       " '《中国人在德国》连载261《在教授…': ['https://blog.sina.com.cn/s/blog_48e92a770102z5hu.html',\n",
       "  '2023-04-10 07:52'],\n",
       " '《中国人在德国》连载260《德国污…': ['https://blog.sina.com.cn/s/blog_48e92a770102z5ht.html',\n",
       "  '2023-04-07 08:29'],\n",
       " '《中国人在德国》连载259《骗我的…': ['https://blog.sina.com.cn/s/blog_48e92a770102z5hs.html',\n",
       "  '2023-04-05 08:48'],\n",
       " '《中国人在德国》连载258《在德国…': ['https://blog.sina.com.cn/s/blog_48e92a770102z5hr.html',\n",
       "  '2023-04-03 08:22'],\n",
       " '《中国人在德国》连载257《我是一…': ['https://blog.sina.com.cn/s/blog_48e92a770102z5hq.html',\n",
       "  '2023-03-31 08:34'],\n",
       " '《中国人在德国》连载256《德国不…': ['https://blog.sina.com.cn/s/blog_48e92a770102z5ho.html',\n",
       "  '2023-03-29 08:25'],\n",
       " '《中国人在德国》连载255《我们的…': ['https://blog.sina.com.cn/s/blog_48e92a770102z5hn.html',\n",
       "  '2023-03-27 08:38'],\n",
       " '《中国人在德国》连载254《我更看…': ['https://blog.sina.com.cn/s/blog_48e92a770102z5hm.html',\n",
       "  '2023-03-24 08:46'],\n",
       " '《中国人在德国》连载253《餐厅楼…': ['https://blog.sina.com.cn/s/blog_48e92a770102z5hj.html',\n",
       "  '2023-03-22 08:32'],\n",
       " '《中国人在德国》连载252《读硕士…': ['https://blog.sina.com.cn/s/blog_48e92a770102z5hi.html',\n",
       "  '2023-03-20 08:31'],\n",
       " '《中国人在德国》连载251《坚持到…': ['https://blog.sina.com.cn/s/blog_48e92a770102z5hh.html',\n",
       "  '2023-03-17 09:35'],\n",
       " '《中国人在德国》连载250《德国对…': ['https://blog.sina.com.cn/s/blog_48e92a770102z5hd.html',\n",
       "  '2023-03-15 08:34'],\n",
       " '《中国人在德国》连载249《中德最…': ['https://blog.sina.com.cn/s/blog_48e92a770102z5h7.html',\n",
       "  '2023-03-10 09:17'],\n",
       " '《中国人在德国》连载248《南北朝…': ['https://blog.sina.com.cn/s/blog_48e92a770102z5h4.html',\n",
       "  '2023-03-08 09:10'],\n",
       " '《中国人在德国》连载247《我是这…': ['https://blog.sina.com.cn/s/blog_48e92a770102z5h3.html',\n",
       "  '2023-03-06 08:38'],\n",
       " '《中国人在德国》连载246《我读了…': ['https://blog.sina.com.cn/s/blog_48e92a770102z5gy.html',\n",
       "  '2023-03-03 08:35'],\n",
       " '《中国人在德国》连载245《我在德…': ['https://blog.sina.com.cn/s/blog_48e92a770102z5gt.html',\n",
       "  '2023-02-27 09:06'],\n",
       " '《中国人在德国》连载244《斯特加…': ['https://blog.sina.com.cn/s/blog_48e92a770102z5gs.html',\n",
       "  '2023-02-24 09:14'],\n",
       " '《中国人在德国》连载243《DSH不是…': ['https://blog.sina.com.cn/s/blog_48e92a770102z5gp.html',\n",
       "  '2023-02-22 10:11'],\n",
       " '《中国人在德国》连载242《德国免…': ['https://blog.sina.com.cn/s/blog_48e92a770102z5g4.html',\n",
       "  '2023-01-30 11:47'],\n",
       " '《中国人在德国》连载241《德国人…': ['https://blog.sina.com.cn/s/blog_48e92a770102z5fr.html',\n",
       "  '2023-01-12 09:00'],\n",
       " '《中国人在德国》连载240《德国人…': ['https://blog.sina.com.cn/s/blog_48e92a770102z5fp.html',\n",
       "  '2023-01-10 09:56'],\n",
       " '《中国人在德国》连载239《就从德…': ['https://blog.sina.com.cn/s/blog_48e92a770102z5fd.html',\n",
       "  '2022-12-30 09:13'],\n",
       " '《中国人在德国》连载238《国内的…': ['https://blog.sina.com.cn/s/blog_48e92a770102z5fc.html',\n",
       "  '2022-12-28 10:02'],\n",
       " '《中国人在德国》连载237《人，竟…': ['https://blog.sina.com.cn/s/blog_48e92a770102z5f9.html',\n",
       "  '2022-12-26 09:56'],\n",
       " '《中国人在德国》连载236《都可以…': ['https://blog.sina.com.cn/s/blog_48e92a770102z5f6.html',\n",
       "  '2022-12-23 10:11'],\n",
       " '《中国人在德国》连载235《在德国…': ['https://blog.sina.com.cn/s/blog_48e92a770102z5f5.html',\n",
       "  '2022-12-21 09:32'],\n",
       " '《中国人在德国》连载234《从2010…': ['https://blog.sina.com.cn/s/blog_48e92a770102z5f4.html',\n",
       "  '2022-12-19 08:17'],\n",
       " '《中国人在德国》连载233《在心里…': ['https://blog.sina.com.cn/s/blog_48e92a770102z5ez.html',\n",
       "  '2022-12-16 09:16'],\n",
       " '《中国人在德国》连载232《我所谓…': ['https://blog.sina.com.cn/s/blog_48e92a770102z5ew.html',\n",
       "  '2022-12-14 08:20'],\n",
       " '《中国人在德国》连载231《没有最…': ['https://blog.sina.com.cn/s/blog_48e92a770102z5es.html',\n",
       "  '2022-12-12 11:40'],\n",
       " '《中国人在德国》连载230《我是这…': ['https://blog.sina.com.cn/s/blog_48e92a770102z5ep.html',\n",
       "  '2022-12-09 11:23'],\n",
       " '《中国人在德国》连载229《只有我…': ['https://blog.sina.com.cn/s/blog_48e92a770102z5ei.html',\n",
       "  '2022-12-05 09:43'],\n",
       " '《中国人在德国》连载228《帮一次…': ['https://blog.sina.com.cn/s/blog_48e92a770102z5ec.html',\n",
       "  '2022-12-02 11:15'],\n",
       " '《中国人在德国》连载227《语言班…': ['https://blog.sina.com.cn/s/blog_48e92a770102z5e9.html',\n",
       "  '2022-11-30 09:31'],\n",
       " '《中国人在德国》连载226《中德之…': ['https://blog.sina.com.cn/s/blog_48e92a770102z5e8.html',\n",
       "  '2022-11-28 09:25'],\n",
       " '《中国人在德国》连载225《因为德…': ['https://blog.sina.com.cn/s/blog_48e92a770102z5e5.html',\n",
       "  '2022-11-25 10:12'],\n",
       " '《中国人在德国》连载224《在德国…': ['https://blog.sina.com.cn/s/blog_48e92a770102z5e4.html',\n",
       "  '2022-11-23 13:35'],\n",
       " '《中国人在德国》连载223《本来，…': ['https://blog.sina.com.cn/s/blog_48e92a770102z5e1.html',\n",
       "  '2022-11-21 08:22'],\n",
       " '《中国人在德国》连载222《现在，…': ['https://blog.sina.com.cn/s/blog_48e92a770102z5dy.html',\n",
       "  '2022-11-18 09:25'],\n",
       " '《中国人在德国》连载221《我会更…': ['https://blog.sina.com.cn/s/blog_48e92a770102z5dv.html',\n",
       "  '2022-11-16 13:11'],\n",
       " '《中国人在德国》连载220《移民对…': ['https://blog.sina.com.cn/s/blog_48e92a770102z5dt.html',\n",
       "  '2022-11-14 13:17'],\n",
       " '《中国人在德国》连载219《我从不…': ['https://blog.sina.com.cn/s/blog_48e92a770102z5dq.html',\n",
       "  '2022-11-09 13:03'],\n",
       " '《中国人在德国》连载218《德国改…': ['https://blog.sina.com.cn/s/blog_48e92a770102z5dp.html',\n",
       "  '2022-11-07 13:43'],\n",
       " '《中国人在德国》连载217《你究竟…': ['https://blog.sina.com.cn/s/blog_48e92a770102z5di.html',\n",
       "  '2022-11-04 13:08'],\n",
       " '《中国人在德国》连载216《丧尽天…': ['https://blog.sina.com.cn/s/blog_48e92a770102z5dh.html',\n",
       "  '2022-11-02 13:09']}"
      ]
     },
     "execution_count": 12,
     "metadata": {},
     "output_type": "execute_result"
    }
   ],
   "source": [
    "all_links"
   ]
  },
  {
   "cell_type": "markdown",
   "metadata": {},
   "source": [
    "拿到所有文章链接后，先取一个来测试一下如何获取页面的文字。在文字上点右键，选择“检查”，可见其内容位于`class=articalContent   newfont_family`里面，因此使用`soup.select(\".articalContent.newfont_family\")`就可以获取到（注意articalContent和newfont_family之间的空格要用\".\"代替）。将其存入`article`变量，显示一下，可以看到这是一个大列表，其中的文本就是我们需要的内容。下面就需要将文本单独提取出来。"
   ]
  },
  {
   "cell_type": "code",
   "execution_count": 13,
   "metadata": {
    "scrolled": false
   },
   "outputs": [
    {
     "data": {
      "text/plain": [
       "[<div class=\"articalContent newfont_family\" id=\"sina_keyword_ad_area2\">\n",
       " <p style=\"margin-top:0cm;margin-right:0cm;margin-bottom:3.15pt;margin-left: 0cm;line-height:13.15pt;background:white\">\n",
       " <b><span style=\"font-size:10.5pt; color:red\">《中国人在德国》</span></b>\n",
       " <b><span style=\"font-size:10.5pt;color:blue\">雅兰·著<span> <wbr/></span></span></b><b><span style=\"font-size:10.5pt; color:red\"> <wbr> <wbr> <wbr> <wbr> <wbr><span style=\"mso-spacerun:yes\"> <wbr> <wbr> <wbr> <wbr> <wbr> <wbr> <wbr> <wbr> <wbr> <wbr> <wbr> <wbr> <wbr> <wbr/></wbr></wbr></wbr></wbr></wbr></wbr></wbr></wbr></wbr></wbr></wbr></wbr></wbr></span></wbr></wbr></wbr></wbr></wbr></span></b></p>\n",
       " <p style=\"margin-top:0cm;margin-right:0cm;margin-bottom:3.15pt;margin-left: 0cm;line-height:13.15pt;background:white\">\n",
       " <span style=\"font-size:9.0pt; color:white;background:red\">享有著权严禁刊载转载侵权必究！</span><b><span style=\"font-size:9.0pt;color:#0000CC\"> <wbr/></span></b><b><span style=\"font-size:10.5pt;color:#0000CC\"> <wbr> <wbr> <wbr> <wbr> <wbr> <wbr> <wbr> <wbr> <wbr> <wbr> <wbr> <wbr><span style=\"mso-spacerun:yes\"> <wbr>\n",
       "  <wbr>  <wbr/></wbr></wbr></span></wbr></wbr></wbr></wbr></wbr></wbr></wbr></wbr></wbr></wbr></wbr></wbr></span></b></p>\n",
       " <p style=\"margin-top:0cm;margin-right:0cm;margin-bottom:3.15pt;margin-left: 0cm;line-height:13.15pt;background:white\">\n",
       " <b><span style=\"mso-bidi-font-size:10.5pt;font-family:宋体; mso-ascii-font-family:Calibri;mso-ascii-theme-font:minor-latin;mso-fareast-font-family: 宋体;mso-fareast-theme-font:minor-fareast;mso-hansi-font-family:Calibri; mso-hansi-theme-font:minor-latin;color:red\">\n",
       " 《</span></b><b><span style=\"mso-bidi-font-size:10.5pt;font-family:新宋体;color:red\">谦宇</span></b><b><span style=\"mso-bidi-font-size:10.5pt; font-family:宋体;mso-fareast-font-family:宋体;mso-fareast-theme-font:minor-fareast; color:red\">》篇</span></b></p>\n",
       " <p style=\"margin-top:0cm;margin-right:0cm;margin-bottom:3.15pt;margin-left: 0cm;line-height:13.15pt;background:white\">\n",
       " <a href=\"https://album.sina.com.cn/pic/001kMAGrzy840EQ9EPD19\" target=\"_blank\"><img alt=\"《中国人在德国》连载252《读硕士的这一年半，很辛苦》\" name=\"image_operate_87991679273575799\" real_src=\"https://s15.sinaimg.cn/mw690/001kMAGrzy840EQ9EPD19&amp;690\" src=\"//simg.sinajs.cn/blog7style/images/common/sg_trans.gif\" title=\"《中国人在德国》连载252《读硕士的这一年半，很辛苦》\"/></a><br/></p>\n",
       " <p><b><span style=\"mso-bidi-font-size:10.5pt; font-family:\"> <wbr/></span></b><b><span style=\"mso-bidi-font-size:10.5pt;color:red\"> <wbr>  <wbr>  <wbr>\n",
       "  <wbr>  <wbr>  <wbr>\n",
       "  <wbr>  <wbr>  <wbr>\n",
       "  <wbr>  <wbr>  <wbr>\n",
       "  <wbr>  <wbr>  <wbr>\n",
       "  <wbr>  <wbr>  <wbr>\n",
       "  <wbr>  <wbr>  <wbr>\n",
       "  <wbr>  <wbr>\n",
       "  <wbr/></wbr></wbr></wbr></wbr></wbr></wbr></wbr></wbr></wbr></wbr></wbr></wbr></wbr></wbr></wbr></wbr></wbr></wbr></wbr></wbr></wbr></wbr></wbr></span></b><b><span style=\"mso-bidi-font-size:10.5pt;font-family:宋体;mso-ascii-font-family:Calibri; mso-ascii-theme-font:minor-latin;mso-fareast-font-family:宋体;mso-fareast-theme-font: minor-fareast;mso-hansi-font-family:Calibri;mso-hansi-theme-font:minor-latin; color:#000066\">微信公众号订阅：直接搜索“大千德国”</span></b></p>\n",
       " <p><b><span style=\"font-size:12.0pt;font-family:宋体;mso-ascii-font-family:Calibri; mso-ascii-theme-font:minor-latin;mso-fareast-font-family:宋体;mso-fareast-theme-font: minor-fareast;mso-hansi-font-family:Calibri;mso-hansi-theme-font:minor-latin; color:red\">\n",
       " 《中国人在德国》珍藏版</span></b></p>\n",
       " <p><b><span style=\"mso-bidi-font-size:10.5pt;font-family:宋体;mso-ascii-font-family:Calibri; mso-ascii-theme-font:minor-latin;mso-fareast-font-family:宋体;mso-fareast-theme-font: minor-fareast;mso-hansi-font-family:Calibri;mso-hansi-theme-font:minor-latin; color:#0000CC\">\n",
       " 已被：中国国家图书馆、北京海淀区图书馆、北京大学图书馆、清华大学图书馆、海南大学图书馆、南京图书馆、金陵图书馆、世界华商基金会、国际中医养生大会理事会、新媒体国际合作组织等海内外国家图书馆和机构收藏！</span></b></p>\n",
       " <p style=\"margin-top:0cm;margin-right:0cm;margin-bottom:3.15pt;margin-left: 0cm;line-height:13.15pt;background:white\">\n",
       "  <wbr/></p>\n",
       " <p><b><span style=\"mso-bidi-font-size:10.5pt;font-family:宋体; mso-ascii-font-family:Calibri;mso-ascii-theme-font:minor-latin;mso-fareast-font-family: 宋体;mso-fareast-theme-font:minor-fareast;mso-hansi-font-family:Calibri; mso-hansi-theme-font:minor-latin;color:#000066\">\n",
       " …………</span></b></p>\n",
       " <p><b><span style=\"mso-bidi-font-size:10.5pt;font-family:宋体;mso-fareast-font-family:宋体; mso-fareast-theme-font:minor-fareast;color:red\">011/</span></b> <b><span style=\"mso-bidi-font-size:10.5pt; font-family:宋体;mso-fareast-font-family:宋体;mso-fareast-theme-font:minor-fareast; color:red\">\n",
       " 读硕士的这一年半，很辛苦</span></b></p>\n",
       " <p><span style=\"mso-bidi-font-size:10.5pt; font-family:宋体;mso-fareast-font-family:宋体;mso-fareast-theme-font:minor-fareast; color:#0000CC\"> <wbr/></span></p>\n",
       " <p style=\"text-indent:21.0pt\"><span style=\"mso-bidi-font-size: 10.5pt;font-family:宋体;mso-fareast-font-family:宋体;mso-fareast-theme-font:minor-fareast; color:#0000CC\">\n",
       " 我印象比较深的，是学语言的时候。老师跟我们说，你们现在觉得学德语很难，很痛苦，当你们通过语言考试，进入大学后，你们会发现，这只是冰山一角。</span></p>\n",
       " <p style=\"text-indent:21.0pt\"><span style=\"mso-bidi-font-size: 10.5pt;font-family:宋体;mso-fareast-font-family:宋体;mso-fareast-theme-font:minor-fareast; color:#0000CC\">\n",
       " 我们大部分人，花了近一年的时间，才拿到<span>DSH</span>语言证书，属于德语的<span>C1</span>级别。听起来级别挺高，其实是对于德国人来说，这只是中学水平。</span></p>\n",
       " <p style=\"text-indent:21.0pt\"><span style=\"mso-bidi-font-size: 10.5pt;font-family:宋体;mso-fareast-font-family:宋体;mso-fareast-theme-font:minor-fareast; color:#0000CC\">\n",
       " 我们这些国内过来的大学生，受了九年的教育，天天上学读书，参加了全国难度最高的考试，千军万马过了那个独木桥，进入一本大学，进行学习。</span></p>\n",
       " <p style=\"text-indent:21.0pt\"><span style=\"mso-bidi-font-size: 10.5pt;font-family:宋体;mso-fareast-font-family:宋体;mso-fareast-theme-font:minor-fareast; color:#0000CC\">\n",
       " 那个年代的大学生，含金量还是很高的。但在德国人眼里，国内的学业不被认可，德语水平，也很吃力。某种程度上，我们等于是初中生，直接去上了大学。</span></p>\n",
       " <p style=\"text-indent:21.0pt\"><span style=\"mso-bidi-font-size: 10.5pt;font-family:宋体;mso-fareast-font-family:宋体;mso-fareast-theme-font:minor-fareast; color:#0000CC\">\n",
       " 可以说，还是有落差感的。</span></p>\n",
       " <p style=\"text-indent:21.0pt\"><span style=\"mso-bidi-font-size: 10.5pt;font-family:宋体;mso-fareast-font-family:宋体;mso-fareast-theme-font:minor-fareast; color:#0000CC\">\n",
       " 我在<span>FH</span>的专业是<span>Photogrammetry and\n",
       " Geoinformatics</span>（摄影测量和地理信息），跟信息工程相近。</span></p>\n",
       " <p style=\"text-indent:21.0pt\"><span style=\"mso-bidi-font-size: 10.5pt;font-family:宋体;mso-fareast-font-family:宋体;mso-fareast-theme-font:minor-fareast; color:#0000CC\">\n",
       " 读硕士的这一年半，很辛苦。</span></p>\n",
       " <p style=\"text-indent:21.0pt\"><span style=\"mso-bidi-font-size: 10.5pt;font-family:宋体;mso-fareast-font-family:宋体;mso-fareast-theme-font:minor-fareast; color:#0000CC\">\n",
       " 不能再像读语言的时候，为了赚钱而逃课，我找了一个只在周六周日的兼职。这样，就不会耽误平时的学业。周一到周五，我可以全身心地投入学习。周六周日的两天，可以安心地打工。一周七天，全部都是占满的。</span></p>\n",
       " <p style=\"text-indent:21.0pt\"><span style=\"mso-bidi-font-size: 10.5pt;font-family:宋体;mso-fareast-font-family:宋体;mso-fareast-theme-font:minor-fareast; color:#0000CC\">\n",
       " 当时，除了每隔两三天，跟女朋友（现在的老婆）视频一下，聊聊天，或者给父母打电话，已经完全没有其他时间。每天，我都在不停地运转。</span></p>\n",
       " <p style=\"text-indent:21.0pt\"><span style=\"mso-bidi-font-size: 10.5pt;font-family:宋体;mso-fareast-font-family:宋体;mso-fareast-theme-font:minor-fareast; color:#0000CC\">\n",
       " 也可以说很规律。生活中只有五件事：做饭，吃饭，睡觉，上课，打工。打一天工后，回来会很累的。</span></p>\n",
       " <p style=\"text-indent:21.0pt\"><span style=\"mso-bidi-font-size: 10.5pt;font-family:宋体;mso-fareast-font-family:宋体;mso-fareast-theme-font:minor-fareast; color:#0000CC\">\n",
       " 毕业设计时，就显得很紧张。每天要做这么多事情，时间被压缩的特别厉害。所有的环节，都必须完成。当时这样，感觉时间，也过得非常快。整个脑子里，似乎没有其他东西。除了睡觉可以休息，其他时间，都在忙碌。</span></p>\n",
       " <p style=\"text-indent:21.0pt\"><a href=\"https://album.sina.com.cn/pic/001kMAGrzy840EZwwDfd1\" target=\"_blank\"><img alt=\"《中国人在德国》连载252《读硕士的这一年半，很辛苦》\" name=\"image_operate_52891679273709612\" real_src=\"https://s15.sinaimg.cn/mw690/001kMAGrzy840EZwwDfd1&amp;690\" src=\"//simg.sinajs.cn/blog7style/images/common/sg_trans.gif\" title=\"《中国人在德国》连载252《读硕士的这一年半，很辛苦》\"/></a><br/>\n",
       "  <wbr>  <wbr>  <wbr>\n",
       "  <wbr>  <wbr>  <wbr>\n",
       "  <wbr>  <wbr>  <wbr>\n",
       "  <wbr>  <wbr>  <wbr>\n",
       "  <wbr>  <wbr>  <wbr>\n",
       "  <wbr>  <wbr>  <wbr>\n",
       "  <wbr>  <wbr>  <wbr>\n",
       "  <wbr>  <wbr>\n",
       "  <wbr> <wbr><b style=\"text-align: center; text-indent: 21pt;\"><span style=\"font-size:9.0pt; font-family:宋体;mso-fareast-font-family:宋体;mso-fareast-theme-font:minor-fareast; color:red\">2006</span></b><b style=\"text-align: center; text-indent: 21pt;\"><span style=\"font-size:9.0pt;font-family:宋体;mso-fareast-font-family:宋体;mso-fareast-theme-font: minor-fareast;color:red\">年<span>9</span>月<span>9</span>日，国际田联田径大奖赛男子<span>110</span>米栏决赛中，</span></b></wbr></wbr></wbr></wbr></wbr></wbr></wbr></wbr></wbr></wbr></wbr></wbr></wbr></wbr></wbr></wbr></wbr></wbr></wbr></wbr></wbr></wbr></wbr></wbr></wbr></p>\n",
       " <p style=\"text-indent:21.0pt\"><b style=\"text-align: center; text-indent: 21pt;\"><span style=\"font-size:9.0pt;font-family: 宋体;mso-fareast-font-family:宋体;mso-fareast-theme-font:minor-fareast;color:red\">\n",
       "  <wbr>  <wbr>  <wbr>\n",
       "  <wbr>  <wbr>  <wbr>\n",
       "  <wbr> 刘翔以<span>12</span>秒<span>93</span>夺得冠军，并打破赛会纪录。摄于斯图加特戴姆勒体育场</wbr></wbr></wbr></wbr></wbr></wbr></wbr></span></b></p>\n",
       " <p style=\"text-indent:21.0pt\"><span style=\"color: rgb(0, 0, 204); font-family: 宋体; text-indent: 21pt;\">那时，打工的地方，搞笑的说法是：世界</span><span style=\"color: rgb(0, 0, 204); text-indent: 21pt;\">500</span><span style=\"color: rgb(0, 0, 204); font-family: 宋体; text-indent: 21pt;\">强之一，汉堡王。</span></p>\n",
       " <p style=\"text-indent:21.0pt\"><span style=\"mso-bidi-font-size: 10.5pt;font-family:宋体;mso-fareast-font-family:宋体;mso-fareast-theme-font:minor-fareast; color:#0000CC\">\n",
       " 那里，一般是女生做<span>Kasse</span>（收银），男生做后厨。我们是有调班的。有时候，我上早班，有时候上晚班。我的工作，就是准备食材、包汉堡和炸鸡块等。</span></p>\n",
       " <p style=\"text-indent:21.0pt\"><span style=\"mso-bidi-font-size: 10.5pt;font-family:宋体;mso-fareast-font-family:宋体;mso-fareast-theme-font:minor-fareast; color:#0000CC\">\n",
       " 在食品店打工的好处就是，每天累了，能够免费吃到汉堡。有时候，也能带一些出来，给舍友。尽管店里有声明，不准往外带汉堡，但所有的员工，在走的时候，都会带上几个汉堡。因为汉堡只要是超过一个小时，就不允许再卖了，必须处理掉。扔掉，也是浪费，还不如带给同学吃。</span></p>\n",
       " <p style=\"text-indent:21.0pt\"><span style=\"mso-bidi-font-size: 10.5pt;font-family:宋体;mso-fareast-font-family:宋体;mso-fareast-theme-font:minor-fareast; color:#0000CC\">\n",
       " 那家汉堡王里的员工，有很多是波黑内战那段时间，从巴尔干地区来的难民，经理和小头都是这么来的。</span></p>\n",
       " <p style=\"text-indent:21.0pt\"><span style=\"mso-bidi-font-size: 10.5pt;font-family:宋体;mso-fareast-font-family:宋体;mso-fareast-theme-font:minor-fareast; color:#0000CC\">\n",
       " 他们对我们这些打工的学生，都挺客气。有时闲聊，会和我们说：“现在，你们也就是短时间，来这里打工，会辛苦一点。等到毕业了，就会有好工作的。但我们可能一辈子，都只能待在这个店工作了”。</span></p>\n",
       " <p style=\"text-indent:21.0pt\"><span style=\"mso-bidi-font-size: 10.5pt;font-family:宋体;mso-fareast-font-family:宋体;mso-fareast-theme-font:minor-fareast; color:#0000CC\">\n",
       " 有个黑人同事，人非常好，他原来是美军在德驻军。退役后，娶了个德国老婆，就一直留在德国了。后来，我终止工作，与他告别时，他还送给我一本英文版的斯诺的《红星照耀中国》。这本书，我一直没时间看。</span></p>\n",
       " <p style=\"text-indent:21.0pt\"><span style=\"mso-bidi-font-size: 10.5pt;font-family:宋体;mso-fareast-font-family:宋体;mso-fareast-theme-font:minor-fareast; color:#0000CC\">\n",
       " 我在水果厂打工的时候，也会带一些水果，给同学。不仅是我带东西给同学，同学有时也会带东西给我。同学之间，都是有时在这个厂，有时在那个厂。大家彼此之间，都会互相给。</span></p>\n",
       " <p style=\"text-indent:21.0pt\"><span style=\"mso-bidi-font-size: 10.5pt;font-family:宋体;mso-fareast-font-family:宋体;mso-fareast-theme-font:minor-fareast; color:#0000CC\">\n",
       " 因为斯图加特是打工城，有很多人，都是通过打工，来交朋友的</span></p>\n",
       " <p style=\"text-indent:21.0pt\"><span style=\"mso-bidi-font-size: 10.5pt;font-family:宋体;mso-fareast-font-family:宋体;mso-fareast-theme-font:minor-fareast; color:#0000CC\">\n",
       " 在汉堡王的工资待遇还行，每月<span>400</span>欧不到。听起来不高，一年下来，也能挣<span>4000</span>多欧。不仅学业不会受影响，生活费也有了保障，还能买上回国的机票。</span></p>\n",
       " <p style=\"text-indent:21.0pt\"><span style=\"mso-bidi-font-size: 10.5pt;font-family:宋体;mso-fareast-font-family:宋体;mso-fareast-theme-font:minor-fareast; color:#0000CC\">\n",
       " 暑假里的时间，还可以打另外一份工。就是去工厂的流水线，集中工作一个月。这一个月，可以有两三千欧得收入。再加上平时打工的收入，一年可以挣到六千多欧。这些足够支撑我在德国的生活。</span></p>\n",
       " <p style=\"text-indent:21.0pt\"><span style=\"mso-bidi-font-size: 10.5pt;font-family:宋体;mso-fareast-font-family:宋体;mso-fareast-theme-font:minor-fareast; color:#0000CC\">\n",
       " 光打工也不行，我的首要任务，还是学习。</span></p>\n",
       " <p style=\"text-indent:21.0pt\"><span style=\"mso-bidi-font-size:10.5pt;font-family:宋体;mso-fareast-font-family:宋体; mso-fareast-theme-font:minor-fareast;color:#0000CC\">FH</span><span style=\"mso-bidi-font-size:10.5pt;font-family:宋体;mso-fareast-font-family:宋体; mso-fareast-theme-font:minor-fareast;color:#0000CC\">的学习，比较累。一年半的学制虽然短，但强度很高。课程多，作业多，上机操作等实际训练也多。一个学期，有七八门课。要想按时毕业，每个学期，都必须通过这些课。我们当时的要求是，如果一门课，三次考不过，学生必须退学。</span></p>\n",
       " <p style=\"text-indent:21.0pt\"><span style=\"mso-bidi-font-size: 10.5pt;font-family:宋体;mso-fareast-font-family:宋体;mso-fareast-theme-font:minor-fareast; color:#0000CC\">\n",
       " 当时的班上，有个中国同学，打工打得太狠了。导致他有一门课，三次考试，都没过，退学了。后来，他转到德国的另外一个大学，把学业学完了。</span></p>\n",
       " <p style=\"text-indent:21.0pt\"><span style=\"mso-bidi-font-size: 10.5pt;font-family:宋体;mso-fareast-font-family:宋体;mso-fareast-theme-font:minor-fareast; color:#0000CC\">\n",
       " 我们都觉得，他很可惜。</span></p>\n",
       " <p style=\"text-indent:21.0pt\"><span style=\"mso-bidi-font-size: 10.5pt;font-family:宋体;mso-fareast-font-family:宋体;mso-fareast-theme-font:minor-fareast; color:#0000CC\">\n",
       " 那时，我们已经学到第二学期，都快毕业了。我们一般的补考，努力一下，基本上都是可以过的。他已经处于补考阶段，可还在打工，这样，学业肯定是被耽误了。</span></p>\n",
       " <p style=\"margin-top:0cm;margin-right:0cm;margin-bottom:3.15pt;margin-left: 0cm;line-height:13.15pt;background:white\">\n",
       "  <wbr/></p>\n",
       " <p style=\"text-indent:21.0pt\"><span style=\"mso-bidi-font-size: 10.5pt;font-family:宋体;mso-fareast-font-family:宋体;mso-fareast-theme-font:minor-fareast; color:#0000CC\">\n",
       " 无论如何，到德国来，还是要以学习为主。打工什么的，平时无所谓，考试期间，好歹把重心转移一下。</span></p>\n",
       " <p style=\"margin-top:0cm;margin-right:0cm;margin-bottom:3.15pt;margin-left: 0cm;line-height:13.15pt;background:white\">\n",
       " <a href=\"https://album.sina.com.cn/pic/001kMAGrzy840F3ge5301\" target=\"_blank\"><img alt=\"《中国人在德国》连载252《读硕士的这一年半，很辛苦》\" name=\"image_operate_28791679273763579\" real_src=\"https://s15.sinaimg.cn/mw690/001kMAGrzy840F3ge5301&amp;690\" src=\"//simg.sinajs.cn/blog7style/images/common/sg_trans.gif\" title=\"《中国人在德国》连载252《读硕士的这一年半，很辛苦》\"/></a><br/>\n",
       " <br/></p>\n",
       " <p style=\"margin:0cm;margin-bottom:.0001pt;line-height:15.75pt;background:white\">\n",
       " <b><span style=\"font-size:10.0pt;color:red\">……………………………………</span></b></p>\n",
       " <p style=\"margin:0cm;margin-bottom:.0001pt;text-indent:21.0pt;line-height:15.75pt; background:white\">\n",
       " <b><span style=\"font-size:11.0pt;color:#464646\"><br/></span></b><b><span style=\"font-size:11.0pt;color:#240Fe0\">书中有关话题与范畴，逐入：人文，</span></b><b><span style=\"font-size:11.0pt;color:#000099\">社会，文化，哲学，历史，教育，医疗等；</span></b></p>\n",
       " <p style=\"margin:0cm;margin-bottom:.0001pt;line-height:15.75pt;background:white\">\n",
       " <b><span style=\"font-size:11.0pt;color:#000099\">具有很高的阅读价值，参考价值，史料价值，收藏价值……</span></b></p>\n",
       " <p style=\"margin:0cm;margin-bottom:.0001pt;text-indent:.4pt;line-height:15.75pt; background:white\">\n",
       " <b><span style=\"font-size:11.0pt;color:red\"> <wbr/></span></b></p>\n",
       " <p style=\"margin:0cm;margin-bottom:.0001pt;line-height:15.75pt;background:white\">\n",
       " <b><span style=\"font-size:11.0pt;color:red\">对比、沉淀、融合、提升、超越，是《中国人在德国》的核心创作理念与思想。以此，全面有力的推动中国社会发展进程，真正做到：铸造大国，屹立东方，傲然世界！</span></b></p>\n",
       " <p style=\"text-indent:21.0pt\"><span style=\"color:#0000CC\"> <wbr>\n",
       "  <wbr>  <wbr>  <wbr>\n",
       "  <wbr>  <wbr>  <wbr>\n",
       "  <wbr>  <wbr>  <wbr>\n",
       "  <wbr>  <wbr>  <wbr>\n",
       "  <wbr> <wbr/></wbr></wbr></wbr></wbr></wbr></wbr></wbr></wbr></wbr></wbr></wbr></wbr></wbr></wbr></span><a href=\"https://album.sina.com.cn/pic/001kMAGrzy840F6uE3Bcf\" target=\"_blank\"><img alt=\"《中国人在德国》连载252《读硕士的这一年半，很辛苦》\" name=\"image_operate_6281679273834979\" real_src=\"https://s15.sinaimg.cn/mw690/001kMAGrzy840F6uE3Bcf&amp;690\" src=\"//simg.sinajs.cn/blog7style/images/common/sg_trans.gif\" title=\"《中国人在德国》连载252《读硕士的这一年半，很辛苦》\"/></a></p>\n",
       " <p style=\"text-indent:21.0pt\"> <wbr>\n",
       "  <wbr>  <wbr>  <wbr>\n",
       "  <wbr>  <wbr>  <wbr>\n",
       "  <wbr>  <wbr>  <wbr>\n",
       "  <wbr>  <wbr>  <wbr>\n",
       "  <wbr>  <wbr>  <wbr>\n",
       "  <wbr>  <wbr>  <wbr>\n",
       "  <wbr>  <wbr>  <wbr>\n",
       "  <wbr>  <wbr>\n",
       "  <wbr><b><span style=\"font-size:10.5pt;font-family:\">扫码进《中国人在德国》读者群 <wbr> <wbr/></wbr></span></b></wbr></wbr></wbr></wbr></wbr></wbr></wbr></wbr></wbr></wbr></wbr></wbr></wbr></wbr></wbr></wbr></wbr></wbr></wbr></wbr></wbr></wbr></wbr></wbr></wbr></p>\n",
       " <br/>\n",
       " <p style=\"margin:0cm;margin-bottom:.0001pt;line-height:15.75pt;background:white\">\n",
       " <span style=\"font-size:11.0pt;color:blue\">……………………………</span></p>\n",
       " <p style=\"margin:0cm;margin-bottom:.0001pt;text-indent:.4pt;line-height:15.75pt; background:white\">\n",
       " <b><span style=\"font-size:11.0pt;color:red\"> <wbr/></span></b></p>\n",
       " <p style=\"margin:0cm;margin-bottom:.0001pt;text-indent:.4pt;line-height:15.75pt; background:white\">\n",
       " <b><span style=\"font-size:11.0pt;color:red\">内容简介：</span></b></p>\n",
       " <p style=\"margin:0cm;margin-bottom:.0001pt;text-indent:21.0pt;line-height:15.75pt; background:white\">\n",
       " <span style=\"font-size:11.0pt;color:#0000CC\"> <wbr/></span></p>\n",
       " <p style=\"margin:0cm;margin-bottom:.0001pt;text-indent:21.0pt;line-height:15.75pt; background:white\">\n",
       " <span style=\"font-size:11.0pt;color:#0000CC\">这里的人物影像，不是直观谫浅。而是迄今为止，唯一集中呈示在德华人的一本专著。</span></p>\n",
       " <p style=\"margin:0cm;margin-bottom:.0001pt;text-indent:21.0pt;line-height:15.75pt; background:white\">\n",
       " <span style=\"font-size:11.0pt;color:#0000CC\">书中文字，具有穿透力。通过阅读，能够让读者感受到，他们心域的宽度，广度，深度，以及每一寸气息里，饱含的温度。</span></p>\n",
       " <p style=\"margin:0cm;margin-bottom:.0001pt;text-indent:21.0pt;line-height:15.75pt; background:white\">\n",
       " <span style=\"font-size:11.0pt;color:#0000CC\">他们是不同的。个人成长，教育背景，出国原因，融入状态，东西方文化的碰撞与冲突；他们又都是相同的，他们都是华人在德国的一个缩影。</span></p>\n",
       " <p style=\"margin:0cm;margin-bottom:.0001pt;text-indent:21.0pt;line-height:15.75pt; background:white\">\n",
       " <span style=\"font-size:11.0pt;color:#0000CC\">他们每个人的内心，都是一个广袤的未知世界。也正是由此，他们构铸了在德华人的大千万象。</span></p>\n",
       " <p style=\"margin:0cm;margin-bottom:.0001pt;text-indent:21.0pt;line-height:15.75pt; background:white\">\n",
       " <span style=\"font-size:11.0pt;color:#0000CC\">就国家与民族而言，他们是弱小的，但在生命的进程中\n",
       " ，在不屈的闿拓中，他们又都是强大而无憾的！</span></p>\n",
       " <p style=\"margin:0cm;margin-bottom:.0001pt;text-indent:21.0pt;line-height:15.75pt; background:white\">\n",
       " <span style=\"font-size:11.0pt;color:#0000CC\">他们每个人的声音，都是中国的心跳。他们每个人的步履，都是中国的深脉。虽然他们都在德国，但他们都是有着一颗中国心！</span></p>\n",
       " <p style=\"margin:0cm;margin-bottom:.0001pt;text-indent:21.0pt;line-height:15.75pt; background:white\">\n",
       " <span style=\"font-size:11.0pt;color:#0000CC\">文字，是他们的灵魂，是无声的音符。</span></p>\n",
       " <p style=\"margin:0cm;margin-bottom:.0001pt;text-indent:21.0pt;line-height:15.75pt; background:white\">\n",
       " <span style=\"font-size:11.0pt;color:#0000CC\">不同阶层的阅读者，从中，都能找到自己想要的答案…</span></p>\n",
       " <p style=\"margin:0cm;margin-bottom:.0001pt;text-indent:21.0pt;line-height:15.75pt; background:white\">\n",
       " <span style=\"font-size:11.0pt;color:#0000CC\"> <wbr/></span></p>\n",
       " <p style=\"margin:0cm;margin-bottom:.0001pt;line-height:15.75pt;background:white\">\n",
       " <span style=\"font-size:11.0pt;color:blue\">…………………………………………………………………………</span></p>\n",
       " <p style=\"margin:0cm;margin-bottom:.0001pt;line-height:15.75pt;background:white\">\n",
       " <b><span style=\"font-size:11.0pt;font-family:\"> <wbr/></span></b></p>\n",
       " <p style=\"margin:0cm;margin-bottom:.0001pt;line-height:15.75pt;background:white\">\n",
       " <b><span style=\"font-size:11.0pt;color:red\">书中主要内容</span></b><span style=\"font-size: 11.0pt;color:#0000CC\">：</span></p>\n",
       " <p style=\"margin:0cm;margin-bottom:.0001pt;line-height:15.75pt;background:white\">\n",
       " <span style=\"font-size:13.5pt;font-family:\"> <wbr/></span></p>\n",
       " <p style=\"margin:0cm;margin-bottom:.0001pt;text-indent:21.0pt;line-height:15.75pt; background:white\">\n",
       " <span style=\"font-size:11.0pt;color:#0000CC\">着力刻画人物的成长与蜕变。历尽万象艰辛后，在异国他乡，最终形成了独立个体。更深层的，是想把在德国的华人历练后的生存状态，用文字呈现给海内外的中国读者……</span></p>\n",
       " <p style=\"margin:0cm;margin-bottom:.0001pt;text-indent:21.0pt;line-height:15.75pt; background:white\">\n",
       " <span style=\"font-size:11.0pt;color:#0000CC\">所有的美景，不是天然而成。凤凰涅槃，烈焰燃烧后的重生，由内而外，都是极致的景象。</span></p>\n",
       " <p style=\"margin:0cm;margin-bottom:.0001pt;text-indent:21.0pt;line-height:15.75pt; background:white\">\n",
       " <span style=\"font-size:11.0pt;color:#0000CC\">“他们当中，有餐厅老板，自由职业者，科学家，机构职员（联邦政府公职），公司雇员，射击协会会长，律师，工程师，赛车教练，留学生，年轻夫妻等，他们是不同的。个人成长，教育背景，出国原因，融入状态，东西方文化的碰撞与冲突；他们又都是相同的，他们都是华人在德国的一个缩影。他们是浓墨，他们是重彩……他们每个人的内心，都是一个广袤的未知世界。也正是由此，他们构铸了在德华人的大千万象……”</span></p>\n",
       " <p style=\"margin:0cm;margin-bottom:.0001pt;text-indent:21.0pt;line-height:15.75pt; background:white\">\n",
       " <span style=\"font-size:11.0pt;color:#0000CC\"> <wbr/></span></p>\n",
       " <p style=\"margin:0cm;margin-bottom:.0001pt;text-indent:21.0pt;line-height:15.75pt; background:white\">\n",
       " <span style=\"font-size:11.0pt;color:#0000CC\">“所有的一切，抵达到他们，即是切面，也是交错融合的焦点。”\n",
       " 这是序言《他们是浓墨，他们是重彩》中的文字。</span></p>\n",
       " <p style=\"margin:0cm;margin-bottom:.0001pt;text-indent:21.0pt;line-height:15.75pt; background:white\">\n",
       " <span style=\"font-size:11.0pt;color:#0000CC\"> <wbr/></span></p>\n",
       " <p style=\"margin:0cm;margin-bottom:.0001pt;text-indent:21.0pt;line-height:15.75pt; background:white\">\n",
       " <span style=\"font-size:11.0pt;color:#0000CC\">在构思《中国人在德国》时，我是想尽可能，让每个人物，都能鲜活饱满起来。这只是外在的阅读感受……随着文字的流淌和加深，再让读者，去触探每个人物的内心。思想。及灵魂……再扩充到大我的家国情怀！根系处，仍是人物（被采访者）和读者难以割舍的羁绊与绕缠：一个小我的人，到底该怎样去生存，去融合，去追索等方面的思考……另一方面，作者也想表达：一个人，又该怎样活着，才能真正拥有人生的价值和意义！？</span></p>\n",
       " <p style=\"margin:0cm;margin-bottom:.0001pt;text-indent:21.0pt;line-height:15.75pt; background:white\">\n",
       " <span style=\"font-size:11.0pt;color:#0000CC\"> <wbr/></span></p>\n",
       " <p style=\"margin:0cm;margin-bottom:.0001pt;text-indent:21.0pt;line-height:15.75pt; background:white\">\n",
       " <span style=\"font-size:11.0pt;color:#0000CC\">整本书，处处都是看点。章章都有收获！</span></p>\n",
       " <p style=\"margin:0cm;margin-bottom:.0001pt;line-height:15.75pt;background:white\">\n",
       " <span style=\"font-size:13.5pt;font-family:\"> <wbr/></span></p>\n",
       " <p style=\"margin:0cm;margin-bottom:.0001pt;line-height:15.75pt;background:white\">\n",
       " <span style=\"font-size:11.0pt;color:#0000CC\">………………………………………………</span></p>\n",
       " <p style=\"margin:0cm;margin-bottom:.0001pt;line-height:15.75pt;background:white\">\n",
       " <span style=\"font-size:11.0pt;font-family:\"> <wbr/></span><b><span style=\"font-size:11.0pt;color:red\">《中国人在德国》腰封文案：</span></b></p>\n",
       " <p style=\"margin:0cm;margin-bottom:.0001pt;line-height:15.75pt;background:white\">\n",
       " <span style=\"font-size:11.0pt;color:#0000CC\"> <wbr/></span></p>\n",
       " <p style=\"margin:0cm;margin-bottom:.0001pt;line-height:15.75pt;background:white\">\n",
       " <span style=\"font-size:11.0pt;color:#0000CC\">一、《中国人在德国》</span></p>\n",
       " <p style=\"margin:0cm;margin-bottom:.0001pt;text-indent:21.0pt;line-height:18.0pt; background:white\">\n",
       " <span style=\"font-size:11.0pt;color:#2810FD\">灵魂，都已打开了！只在等你，静心阅读……</span></p>\n",
       " <p style=\"margin:0cm;margin-bottom:.0001pt;line-height:18.0pt;background:white\">\n",
       " <span style=\"font-size:11.0pt;color:#464646\"> <wbr/></span><span style=\"font-size:11.0pt;color:#0000CC\"> <wbr/></span></p>\n",
       " <p style=\"margin:0cm;margin-bottom:.0001pt;line-height:15.75pt;background:white\">\n",
       " <b><span style=\"font-size:11.0pt;color:red\">亮点阅读：</span></b></p>\n",
       " <p style=\"margin:0cm;margin-bottom:.0001pt;text-indent:21.0pt;line-height:15.75pt; background:white\">\n",
       " <span style=\"font-size:11.0pt;color:#0000CC\"> <wbr/></span></p>\n",
       " <p style=\"margin:0cm;margin-bottom:.0001pt;text-indent:21.0pt;line-height:15.75pt; background:white\">\n",
       " <span style=\"font-size:11.0pt;color:#0000CC\">《中国人在德国》，不仅在国内会产生影响（尤其是青年学子），在德国的华人界也会产生影响…因为：迄今为止，无论是国内作家还是华人作家，都还没有写出一本《中国人在德国》的书。或者是类似的书…就像凌鼎年老师说的，写出欧洲的，也没有…《中国人在德国》是第一本。</span></p>\n",
       " <p style=\"margin:0cm;margin-bottom:.0001pt;text-indent:21.0pt;line-height:15.75pt; background:white\">\n",
       " <span style=\"font-size:10.5pt;color:#0000CC\"> <wbr/></span></p>\n",
       " <p style=\"margin:0cm;margin-bottom:.0001pt;text-indent:21.0pt;line-height:15.75pt; background:white\">\n",
       " <span style=\"font-size:10.5pt;color:#0000CC\">读者，通过此书的阅读，也会产生更强的民族凝聚力量。</span></p>\n",
       " <p style=\"margin:0cm;margin-bottom:.0001pt;text-indent:21.0pt;line-height:15.75pt; background:white\">\n",
       " <span style=\"font-size:10.5pt;color:#0000CC\">华人，他们每个人，不是一个人。他们是一群人。一个群体。他们是一种符号和象征…在德国，他们是中国人…他们是中国。他们的血管里，流淌着中国血液…他们站在德国的大地上。他们的身影，毅力着。从没倒下过…他们的身后，有强大的中国，在做支撑！所有文字，都是表象…物质，不仅有表象。真正有价值的，都是潜藏在内核…</span></p>\n",
       " <p style=\"margin:0cm;margin-bottom:.0001pt;text-indent:21.0pt;line-height:15.75pt; background:white\">\n",
       " <span style=\"font-size:10.5pt;color:#0000CC\"> <wbr/></span></p>\n",
       " <p style=\"margin:0cm;margin-bottom:.0001pt;text-indent:21.0pt;line-height:15.75pt; background:white\">\n",
       " <span style=\"font-size:10.5pt;color:#0000CC\">书中人物，除一人之外，其他人，都是以留学生身份，去往德国。</span></p>\n",
       " <p style=\"margin:0cm;margin-bottom:.0001pt;text-indent:21.0pt;line-height:15.75pt; background:white\">\n",
       " <span style=\"font-size:10.5pt;color:#0000CC\">现在的中国，是留学大国。每年，去国外留学的学生人数，都在递增。德国因为免学费，所以，去德国留学，是很多国内中层阶级孩子的向往。</span></p>\n",
       " <p style=\"margin:0cm;margin-bottom:.0001pt;text-indent:21.0pt;line-height:15.75pt; background:white\">\n",
       " <span style=\"font-size:10.5pt;color:#0000CC\"> <wbr/></span></p>\n",
       " <p style=\"margin:0cm;margin-bottom:.0001pt;text-indent:21.0pt;line-height:15.75pt; background:white\">\n",
       " <span style=\"font-size:10.5pt;color:#0000CC\">学生通过《中国人在德国》，可以了解到，留学德国后，所要面临和将来需要解决的各种问题。也可谓：</span><span style=\"font-size:10.5pt;color:red\">此书，即是一本留学指南针</span><span style=\"font-size: 10.5pt;color:#0000CC\">…对于想去德国旅居和定居的中国人来说，此书，</span><span style=\"font-size:10.5pt; color:red\">也可谓是一把解剖德国各阶层的手术刀</span><span style=\"font-size:10.5pt;color:#0000CC\">。因为书中人物，已经渗透至德国社会各阶层，他们的亲临感受，让此类读者，通过文字阅读，即能做到恰当的选择与规避。以便让自己，能够在德国，求得最好的生存方式。</span></p>\n",
       " <p style=\"margin:0cm;margin-bottom:.0001pt;text-indent:21.0pt;line-height:15.75pt; background:white\">\n",
       " <span style=\"font-size:10.5pt;color:red\">学子睿才，追求与思考并行。书中，尽显东西方文化与教育的碰撞，互通，共融。</span></p>\n",
       " <p style=\"margin:0cm;margin-bottom:.0001pt;text-indent:21.0pt;line-height:15.75pt; background:white\">\n",
       " <span style=\"font-size:10.5pt;color:#0000CC\">通过阅读，人文，社会，文化，哲学，历史，教育，医疗等领域的读者，都会寻索到自己想要的答案……</span></p>\n",
       " <p style=\"margin:0cm;margin-bottom:.0001pt;text-indent:21.0pt;line-height:15.75pt; background:white\">\n",
       " <span style=\"font-size:10.5pt;color:#0000CC\"> <wbr/></span></p>\n",
       " <p style=\"margin:0cm;margin-bottom:.0001pt;text-indent:21.0pt;line-height:15.75pt; background:white\">\n",
       " <span style=\"font-size:10.5pt;color:#0000CC\">地球，已趋国际化…《中国人在德国》方方面面的生活、经历，所见所闻，所思所想，话题广泛，可令读者增广见闻。</span></p>\n",
       " <p style=\"margin:0cm;margin-bottom:.0001pt;text-indent:21.0pt;line-height:15.75pt; background:white\">\n",
       " <span style=\"font-size:10.5pt;color:#0000CC\">对于国内的各阶层阅读者，此书，既是了解德国的一个界面，也能让阅读者，通过文字本身，能够更深层的了解到：德国独有的文化特色和社会风情。通过阅读，神思上，会产生无尽遐想……</span></p>\n",
       " <p style=\"margin:0cm;margin-bottom:.0001pt;line-height:15.75pt;background:white\">\n",
       " <span style=\"font-size:13.5pt;color:#0000CC\">……………………</span></p>\n",
       " <p style=\"margin:0cm;margin-bottom:.0001pt;line-height:15.75pt;background:white\">\n",
       " <b><span style=\"font-size:10.5pt;color:red\">作者简介</span></b></p>\n",
       " <p style=\"margin:0cm;margin-bottom:.0001pt;text-indent:22.5pt;line-height:15.75pt; background:white\">\n",
       " <b><span style=\"font-size:9.0pt;color:red\">雅兰，著名作家，社会学家，旅德作家。以思想敏锐，文字敏锐，视角独特著称。游离于言论、散文、小说、诗歌等诸多文体。在公开发行的刊物及相关网页开设各版《雅兰专栏》。著书《中国很高兴》、《性殇》、《从压抑到泛滥》、《在我离开你之前》。</span></b></p>\n",
       " <p style=\"margin:0cm;margin-bottom:.0001pt;text-indent:22.5pt;line-height:15.75pt; background:white\">\n",
       " <b><span style=\"font-size:9.0pt;color:red\">因创作微型小说，而引发的风暴漩流，被中国文坛列为《新世纪以来的文学事件》之一。被《北京文学》杂志评为“</span></b><b><span style=\"font-size:9.0pt;font-family:\">2004</span></b><b><span style=\"font-size:9.0pt;color:red\">年中国十大文化热点之一”。轰动中国文化界。与此同时，引发海内外海量媒体的关注与跟进报道。并在</span></b><b><span style=\"font-size:9.0pt;font-family:\">2018</span></b><b><span style=\"font-size:9.0pt;color:red\">年，入选“江苏省改革开放</span></b><b><span style=\"font-size:9.0pt;font-family:\">40</span></b><b><span style=\"font-size:9.0pt;color:red\">年最具影响的</span></b><b><span style=\"font-size:9.0pt;font-family:\">40</span></b><b><span style=\"font-size:9.0pt;color:red\">篇微型小说”。</span></b></p>\n",
       " <p style=\"margin:0cm;margin-bottom:.0001pt;text-indent:22.5pt;line-height:15.75pt; background:white\">\n",
       " <span style=\"font-size:13.5pt;font-family:\"> <wbr/></span><b><span style=\"font-size:9.0pt;color:#000099\">………………</span></b></p>\n",
       " <p style=\"margin:0cm;margin-bottom:.0001pt;line-height:15.75pt;background:white\">\n",
       " <b><span style=\"font-size:9.0pt;color:red\">雅兰信箱</span></b><b><span style=\"font-size:9.0pt;font-family:\">:</span></b></p>\n",
       " <p style=\"margin-top:0cm;margin-right:0cm;margin-bottom:3.15pt;margin-left: 0cm;line-height:13.15pt;background:white\">\n",
       "  <wbr/></p>\n",
       " <p style=\"margin:0cm;margin-bottom:.0001pt;text-indent:21.0pt;line-height:15.75pt; background:white\">\n",
       " <b><span style=\"font-size:9.0pt;font-family:\">shuiyanqinglian@126.com</span></b></p>\n",
       " <p style=\"margin:0cm;margin-bottom:.0001pt;text-indent:21.0pt;line-height:15.75pt; background:white\">\n",
       " <b><span style=\"font-size:9.0pt;font-family:\"><br/></span></b></p>\n",
       " <p style=\"margin:0cm;margin-bottom:.0001pt;text-indent:21.0pt;line-height:15.75pt; background:white\">\n",
       " <b><span style=\"font-size:9.0pt;font-family:\"><br/></span></b></p>\n",
       " <p style=\"margin:0cm;margin-bottom:.0001pt;text-indent:21.0pt;line-height:15.75pt; background:white\">\n",
       " <b><span style=\"font-size:9.0pt;font-family:\"><br/></span></b></p>\n",
       " <p style=\"margin-top:0cm;margin-right:0cm;margin-bottom:3.15pt;margin-left: 0cm;line-height:13.15pt;background:white\">\n",
       " <br/></p>\n",
       " <p style=\"margin-top:0cm;margin-right:0cm;margin-bottom:3.15pt;margin-left: 0cm;line-height:13.15pt;background:white\">\n",
       " <br/></p>\n",
       " <p style=\"margin-top:0cm;margin-right:0cm;margin-bottom:3.15pt;margin-left: 0cm;line-height:13.15pt;background:white\">\n",
       " <br/></p>\n",
       " <p style=\"margin-top:0cm;margin-right:0cm;margin-bottom:3.15pt;margin-left: 0cm;line-height:13.15pt;background:white\">\n",
       " <br/></p>\n",
       " <p style=\"margin-top:0cm;margin-right:0cm;margin-bottom:3.15pt;margin-left: 0cm;line-height:13.15pt;background:white\">\n",
       " <br/></p>\n",
       " <p style=\"margin-top:0cm;margin-right:0cm;margin-bottom:3.15pt;margin-left: 0cm;line-height:13.15pt;background:white\">\n",
       " <br/></p>\n",
       " <p style=\"margin-top:0cm;margin-right:0cm;margin-bottom:3.15pt;margin-left: 0cm;line-height:13.15pt;background:white\">\n",
       " <br/></p>\n",
       " <p style=\"margin-top:0cm;margin-right:0cm;margin-bottom:3.15pt;margin-left: 0cm;line-height:13.15pt;background:white\">\n",
       " <br/></p>\n",
       " </div>]"
      ]
     },
     "execution_count": 13,
     "metadata": {},
     "output_type": "execute_result"
    }
   ],
   "source": [
    "#获取单篇文章中的文字\n",
    "url = 'https://blog.sina.com.cn/s/blog_48e92a770102z5hi.html'\n",
    "wb_data = requests.get(url)\n",
    "soup = BeautifulSoup(wb_data.content)\n",
    "article = soup.select(\".articalContent.newfont_family\")\n",
    "article"
   ]
  },
  {
   "cell_type": "markdown",
   "metadata": {},
   "source": [
    "直接使用`text`方法就能提取出来。“\\xa0”是个什么鬼？明显不是我们要的，百度了一下，说是什么不间断空格符。管他呢，直接使用`replace(\"\\xa0\",\"\")`删掉，这下就美丽了。“\\n”是换行，就不要删了，保持原格式比较好。"
   ]
  },
  {
   "cell_type": "code",
   "execution_count": 14,
   "metadata": {},
   "outputs": [
    {
     "data": {
      "text/plain": [
       "'\\n\\n《中国人在德国》\\n雅兰·著\\xa0\\xa0\\xa0\\xa0\\xa0\\xa0\\xa0\\xa0\\xa0\\xa0\\xa0\\xa0\\xa0\\xa0\\xa0\\xa0\\xa0\\xa0\\xa0\\xa0\\n\\n享有著权严禁刊载转载侵权必究！\\xa0\\xa0\\xa0\\xa0\\xa0\\xa0\\xa0\\xa0\\xa0\\xa0\\xa0\\xa0\\xa0\\xa0\\n\\xa0 \\xa0\\n\\n\\n《谦宇》篇\\n\\n\\n\\xa0\\xa0 \\xa0 \\xa0\\n\\xa0 \\xa0 \\xa0\\n\\xa0 \\xa0 \\xa0\\n\\xa0 \\xa0 \\xa0\\n\\xa0 \\xa0 \\xa0\\n\\xa0 \\xa0 \\xa0\\n\\xa0 \\xa0 \\xa0\\n\\xa0 \\xa0\\n\\xa0微信公众号订阅：直接搜索“大千德国”\\n\\n《中国人在德国》珍藏版\\n\\n已被：中国国家图书馆、北京海淀区图书馆、北京大学图书馆、清华大学图书馆、海南大学图书馆、南京图书馆、金陵图书馆、世界华商基金会、国际中医养生大会理事会、新媒体国际合作组织等海内外国家图书馆和机构收藏！\\n\\n\\xa0\\n\\n…………\\n011/ \\n读硕士的这一年半，很辛苦\\n\\xa0\\n\\n我印象比较深的，是学语言的时候。老师跟我们说，你们现在觉得学德语很难，很痛苦，当你们通过语言考试，进入大学后，你们会发现，这只是冰山一角。\\n\\n我们大部分人，花了近一年的时间，才拿到DSH语言证书，属于德语的C1级别。听起来级别挺高，其实是对于德国人来说，这只是中学水平。\\n\\n我们这些国内过来的大学生，受了九年的教育，天天上学读书，参加了全国难度最高的考试，千军万马过了那个独木桥，进入一本大学，进行学习。\\n\\n那个年代的大学生，含金量还是很高的。但在德国人眼里，国内的学业不被认可，德语水平，也很吃力。某种程度上，我们等于是初中生，直接去上了大学。\\n\\n可以说，还是有落差感的。\\n\\n我在FH的专业是Photogrammetry and\\nGeoinformatics（摄影测量和地理信息），跟信息工程相近。\\n\\n读硕士的这一年半，很辛苦。\\n\\n不能再像读语言的时候，为了赚钱而逃课，我找了一个只在周六周日的兼职。这样，就不会耽误平时的学业。周一到周五，我可以全身心地投入学习。周六周日的两天，可以安心地打工。一周七天，全部都是占满的。\\n\\n当时，除了每隔两三天，跟女朋友（现在的老婆）视频一下，聊聊天，或者给父母打电话，已经完全没有其他时间。每天，我都在不停地运转。\\n\\n也可以说很规律。生活中只有五件事：做饭，吃饭，睡觉，上课，打工。打一天工后，回来会很累的。\\n\\n毕业设计时，就显得很紧张。每天要做这么多事情，时间被压缩的特别厉害。所有的环节，都必须完成。当时这样，感觉时间，也过得非常快。整个脑子里，似乎没有其他东西。除了睡觉可以休息，其他时间，都在忙碌。\\n\\n\\xa0 \\xa0 \\xa0\\n\\xa0 \\xa0 \\xa0\\n\\xa0 \\xa0 \\xa0\\n\\xa0 \\xa0 \\xa0\\n\\xa0 \\xa0 \\xa0\\n\\xa0 \\xa0 \\xa0\\n\\xa0 \\xa0 \\xa0\\n\\xa0 \\xa0\\n\\xa0\\xa02006年9月9日，国际田联田径大奖赛男子110米栏决赛中，\\n\\n\\xa0 \\xa0 \\xa0\\n\\xa0 \\xa0 \\xa0\\n\\xa0 刘翔以12秒93夺得冠军，并打破赛会纪录。摄于斯图加特戴姆勒体育场\\n那时，打工的地方，搞笑的说法是：世界500强之一，汉堡王。\\n\\n那里，一般是女生做Kasse（收银），男生做后厨。我们是有调班的。有时候，我上早班，有时候上晚班。我的工作，就是准备食材、包汉堡和炸鸡块等。\\n\\n在食品店打工的好处就是，每天累了，能够免费吃到汉堡。有时候，也能带一些出来，给舍友。尽管店里有声明，不准往外带汉堡，但所有的员工，在走的时候，都会带上几个汉堡。因为汉堡只要是超过一个小时，就不允许再卖了，必须处理掉。扔掉，也是浪费，还不如带给同学吃。\\n\\n那家汉堡王里的员工，有很多是波黑内战那段时间，从巴尔干地区来的难民，经理和小头都是这么来的。\\n\\n他们对我们这些打工的学生，都挺客气。有时闲聊，会和我们说：“现在，你们也就是短时间，来这里打工，会辛苦一点。等到毕业了，就会有好工作的。但我们可能一辈子，都只能待在这个店工作了”。\\n\\n有个黑人同事，人非常好，他原来是美军在德驻军。退役后，娶了个德国老婆，就一直留在德国了。后来，我终止工作，与他告别时，他还送给我一本英文版的斯诺的《红星照耀中国》。这本书，我一直没时间看。\\n\\n我在水果厂打工的时候，也会带一些水果，给同学。不仅是我带东西给同学，同学有时也会带东西给我。同学之间，都是有时在这个厂，有时在那个厂。大家彼此之间，都会互相给。\\n\\n因为斯图加特是打工城，有很多人，都是通过打工，来交朋友的\\n\\n在汉堡王的工资待遇还行，每月400欧不到。听起来不高，一年下来，也能挣4000多欧。不仅学业不会受影响，生活费也有了保障，还能买上回国的机票。\\n\\n暑假里的时间，还可以打另外一份工。就是去工厂的流水线，集中工作一个月。这一个月，可以有两三千欧得收入。再加上平时打工的收入，一年可以挣到六千多欧。这些足够支撑我在德国的生活。\\n\\n光打工也不行，我的首要任务，还是学习。\\nFH的学习，比较累。一年半的学制虽然短，但强度很高。课程多，作业多，上机操作等实际训练也多。一个学期，有七八门课。要想按时毕业，每个学期，都必须通过这些课。我们当时的要求是，如果一门课，三次考不过，学生必须退学。\\n\\n当时的班上，有个中国同学，打工打得太狠了。导致他有一门课，三次考试，都没过，退学了。后来，他转到德国的另外一个大学，把学业学完了。\\n\\n我们都觉得，他很可惜。\\n\\n那时，我们已经学到第二学期，都快毕业了。我们一般的补考，努力一下，基本上都是可以过的。他已经处于补考阶段，可还在打工，这样，学业肯定是被耽误了。\\n\\n\\xa0\\n\\n无论如何，到德国来，还是要以学习为主。打工什么的，平时无所谓，考试期间，好歹把重心转移一下。\\n\\n\\n\\n\\n……………………………………\\n\\n书中有关话题与范畴，逐入：人文，社会，文化，哲学，历史，教育，医疗等；\\n\\n具有很高的阅读价值，参考价值，史料价值，收藏价值……\\n\\n\\xa0\\n\\n对比、沉淀、融合、提升、超越，是《中国人在德国》的核心创作理念与思想。以此，全面有力的推动中国社会发展进程，真正做到：铸造大国，屹立东方，傲然世界！\\n\\xa0\\n\\xa0 \\xa0 \\xa0\\n\\xa0 \\xa0 \\xa0\\n\\xa0 \\xa0 \\xa0\\n\\xa0 \\xa0 \\xa0\\n\\xa0\\xa0\\n\\xa0\\n\\xa0 \\xa0 \\xa0\\n\\xa0 \\xa0 \\xa0\\n\\xa0 \\xa0 \\xa0\\n\\xa0 \\xa0 \\xa0\\n\\xa0 \\xa0 \\xa0\\n\\xa0 \\xa0 \\xa0\\n\\xa0 \\xa0 \\xa0\\n\\xa0 \\xa0\\n\\xa0扫码进《中国人在德国》读者群\\xa0\\xa0\\n\\n\\n……………………………\\n\\n\\xa0\\n\\n内容简介：\\n\\n\\xa0\\n\\n这里的人物影像，不是直观谫浅。而是迄今为止，唯一集中呈示在德华人的一本专著。\\n\\n书中文字，具有穿透力。通过阅读，能够让读者感受到，他们心域的宽度，广度，深度，以及每一寸气息里，饱含的温度。\\n\\n他们是不同的。个人成长，教育背景，出国原因，融入状态，东西方文化的碰撞与冲突；他们又都是相同的，他们都是华人在德国的一个缩影。\\n\\n他们每个人的内心，都是一个广袤的未知世界。也正是由此，他们构铸了在德华人的大千万象。\\n\\n就国家与民族而言，他们是弱小的，但在生命的进程中\\n，在不屈的闿拓中，他们又都是强大而无憾的！\\n\\n他们每个人的声音，都是中国的心跳。他们每个人的步履，都是中国的深脉。虽然他们都在德国，但他们都是有着一颗中国心！\\n\\n文字，是他们的灵魂，是无声的音符。\\n\\n不同阶层的阅读者，从中，都能找到自己想要的答案…\\n\\n\\xa0\\n\\n…………………………………………………………………………\\n\\n\\xa0\\n\\n书中主要内容：\\n\\n\\xa0\\n\\n着力刻画人物的成长与蜕变。历尽万象艰辛后，在异国他乡，最终形成了独立个体。更深层的，是想把在德国的华人历练后的生存状态，用文字呈现给海内外的中国读者……\\n\\n所有的美景，不是天然而成。凤凰涅槃，烈焰燃烧后的重生，由内而外，都是极致的景象。\\n\\n“他们当中，有餐厅老板，自由职业者，科学家，机构职员（联邦政府公职），公司雇员，射击协会会长，律师，工程师，赛车教练，留学生，年轻夫妻等，他们是不同的。个人成长，教育背景，出国原因，融入状态，东西方文化的碰撞与冲突；他们又都是相同的，他们都是华人在德国的一个缩影。他们是浓墨，他们是重彩……他们每个人的内心，都是一个广袤的未知世界。也正是由此，他们构铸了在德华人的大千万象……”\\n\\n\\xa0\\n\\n“所有的一切，抵达到他们，即是切面，也是交错融合的焦点。”\\n这是序言《他们是浓墨，他们是重彩》中的文字。\\n\\n\\xa0\\n\\n在构思《中国人在德国》时，我是想尽可能，让每个人物，都能鲜活饱满起来。这只是外在的阅读感受……随着文字的流淌和加深，再让读者，去触探每个人物的内心。思想。及灵魂……再扩充到大我的家国情怀！根系处，仍是人物（被采访者）和读者难以割舍的羁绊与绕缠：一个小我的人，到底该怎样去生存，去融合，去追索等方面的思考……另一方面，作者也想表达：一个人，又该怎样活着，才能真正拥有人生的价值和意义！？\\n\\n\\xa0\\n\\n整本书，处处都是看点。章章都有收获！\\n\\n\\xa0\\n\\n………………………………………………\\n\\n\\xa0《中国人在德国》腰封文案：\\n\\n\\xa0\\n\\n一、《中国人在德国》\\n\\n灵魂，都已打开了！只在等你，静心阅读……\\n\\n\\xa0\\xa0\\n\\n亮点阅读：\\n\\n\\xa0\\n\\n《中国人在德国》，不仅在国内会产生影响（尤其是青年学子），在德国的华人界也会产生影响…因为：迄今为止，无论是国内作家还是华人作家，都还没有写出一本《中国人在德国》的书。或者是类似的书…就像凌鼎年老师说的，写出欧洲的，也没有…《中国人在德国》是第一本。\\n\\n\\xa0\\n\\n读者，通过此书的阅读，也会产生更强的民族凝聚力量。\\n\\n华人，他们每个人，不是一个人。他们是一群人。一个群体。他们是一种符号和象征…在德国，他们是中国人…他们是中国。他们的血管里，流淌着中国血液…他们站在德国的大地上。他们的身影，毅力着。从没倒下过…他们的身后，有强大的中国，在做支撑！所有文字，都是表象…物质，不仅有表象。真正有价值的，都是潜藏在内核…\\n\\n\\xa0\\n\\n书中人物，除一人之外，其他人，都是以留学生身份，去往德国。\\n\\n现在的中国，是留学大国。每年，去国外留学的学生人数，都在递增。德国因为免学费，所以，去德国留学，是很多国内中层阶级孩子的向往。\\n\\n\\xa0\\n\\n学生通过《中国人在德国》，可以了解到，留学德国后，所要面临和将来需要解决的各种问题。也可谓：此书，即是一本留学指南针…对于想去德国旅居和定居的中国人来说，此书，也可谓是一把解剖德国各阶层的手术刀。因为书中人物，已经渗透至德国社会各阶层，他们的亲临感受，让此类读者，通过文字阅读，即能做到恰当的选择与规避。以便让自己，能够在德国，求得最好的生存方式。\\n\\n学子睿才，追求与思考并行。书中，尽显东西方文化与教育的碰撞，互通，共融。\\n\\n通过阅读，人文，社会，文化，哲学，历史，教育，医疗等领域的读者，都会寻索到自己想要的答案……\\n\\n\\xa0\\n\\n地球，已趋国际化…《中国人在德国》方方面面的生活、经历，所见所闻，所思所想，话题广泛，可令读者增广见闻。\\n\\n对于国内的各阶层阅读者，此书，既是了解德国的一个界面，也能让阅读者，通过文字本身，能够更深层的了解到：德国独有的文化特色和社会风情。通过阅读，神思上，会产生无尽遐想……\\n\\n……………………\\n\\n作者简介\\n\\n雅兰，著名作家，社会学家，旅德作家。以思想敏锐，文字敏锐，视角独特著称。游离于言论、散文、小说、诗歌等诸多文体。在公开发行的刊物及相关网页开设各版《雅兰专栏》。著书《中国很高兴》、《性殇》、《从压抑到泛滥》、《在我离开你之前》。\\n\\n因创作微型小说，而引发的风暴漩流，被中国文坛列为《新世纪以来的文学事件》之一。被《北京文学》杂志评为“2004年中国十大文化热点之一”。轰动中国文化界。与此同时，引发海内外海量媒体的关注与跟进报道。并在2018年，入选“江苏省改革开放40年最具影响的40篇微型小说”。\\n\\n\\xa0………………\\n\\n雅兰信箱:\\n\\n\\xa0\\n\\nshuiyanqinglian@126.com\\n\\n\\n\\n\\n\\n\\n\\n\\n\\n\\n\\n\\n\\n\\n\\n\\n\\n\\n\\n\\n\\n\\n'"
      ]
     },
     "execution_count": 14,
     "metadata": {},
     "output_type": "execute_result"
    }
   ],
   "source": [
    "article[0].text"
   ]
  },
  {
   "cell_type": "code",
   "execution_count": 15,
   "metadata": {},
   "outputs": [
    {
     "data": {
      "text/plain": [
       "'\\n\\n《中国人在德国》\\n雅兰·著\\n\\n享有著权严禁刊载转载侵权必究！\\n \\n\\n\\n《谦宇》篇\\n\\n\\n  \\n  \\n  \\n  \\n  \\n  \\n  \\n \\n微信公众号订阅：直接搜索“大千德国”\\n\\n《中国人在德国》珍藏版\\n\\n已被：中国国家图书馆、北京海淀区图书馆、北京大学图书馆、清华大学图书馆、海南大学图书馆、南京图书馆、金陵图书馆、世界华商基金会、国际中医养生大会理事会、新媒体国际合作组织等海内外国家图书馆和机构收藏！\\n\\n\\n\\n…………\\n011/ \\n读硕士的这一年半，很辛苦\\n\\n\\n我印象比较深的，是学语言的时候。老师跟我们说，你们现在觉得学德语很难，很痛苦，当你们通过语言考试，进入大学后，你们会发现，这只是冰山一角。\\n\\n我们大部分人，花了近一年的时间，才拿到DSH语言证书，属于德语的C1级别。听起来级别挺高，其实是对于德国人来说，这只是中学水平。\\n\\n我们这些国内过来的大学生，受了九年的教育，天天上学读书，参加了全国难度最高的考试，千军万马过了那个独木桥，进入一本大学，进行学习。\\n\\n那个年代的大学生，含金量还是很高的。但在德国人眼里，国内的学业不被认可，德语水平，也很吃力。某种程度上，我们等于是初中生，直接去上了大学。\\n\\n可以说，还是有落差感的。\\n\\n我在FH的专业是Photogrammetry and\\nGeoinformatics（摄影测量和地理信息），跟信息工程相近。\\n\\n读硕士的这一年半，很辛苦。\\n\\n不能再像读语言的时候，为了赚钱而逃课，我找了一个只在周六周日的兼职。这样，就不会耽误平时的学业。周一到周五，我可以全身心地投入学习。周六周日的两天，可以安心地打工。一周七天，全部都是占满的。\\n\\n当时，除了每隔两三天，跟女朋友（现在的老婆）视频一下，聊聊天，或者给父母打电话，已经完全没有其他时间。每天，我都在不停地运转。\\n\\n也可以说很规律。生活中只有五件事：做饭，吃饭，睡觉，上课，打工。打一天工后，回来会很累的。\\n\\n毕业设计时，就显得很紧张。每天要做这么多事情，时间被压缩的特别厉害。所有的环节，都必须完成。当时这样，感觉时间，也过得非常快。整个脑子里，似乎没有其他东西。除了睡觉可以休息，其他时间，都在忙碌。\\n\\n  \\n  \\n  \\n  \\n  \\n  \\n  \\n \\n2006年9月9日，国际田联田径大奖赛男子110米栏决赛中，\\n\\n  \\n  \\n 刘翔以12秒93夺得冠军，并打破赛会纪录。摄于斯图加特戴姆勒体育场\\n那时，打工的地方，搞笑的说法是：世界500强之一，汉堡王。\\n\\n那里，一般是女生做Kasse（收银），男生做后厨。我们是有调班的。有时候，我上早班，有时候上晚班。我的工作，就是准备食材、包汉堡和炸鸡块等。\\n\\n在食品店打工的好处就是，每天累了，能够免费吃到汉堡。有时候，也能带一些出来，给舍友。尽管店里有声明，不准往外带汉堡，但所有的员工，在走的时候，都会带上几个汉堡。因为汉堡只要是超过一个小时，就不允许再卖了，必须处理掉。扔掉，也是浪费，还不如带给同学吃。\\n\\n那家汉堡王里的员工，有很多是波黑内战那段时间，从巴尔干地区来的难民，经理和小头都是这么来的。\\n\\n他们对我们这些打工的学生，都挺客气。有时闲聊，会和我们说：“现在，你们也就是短时间，来这里打工，会辛苦一点。等到毕业了，就会有好工作的。但我们可能一辈子，都只能待在这个店工作了”。\\n\\n有个黑人同事，人非常好，他原来是美军在德驻军。退役后，娶了个德国老婆，就一直留在德国了。后来，我终止工作，与他告别时，他还送给我一本英文版的斯诺的《红星照耀中国》。这本书，我一直没时间看。\\n\\n我在水果厂打工的时候，也会带一些水果，给同学。不仅是我带东西给同学，同学有时也会带东西给我。同学之间，都是有时在这个厂，有时在那个厂。大家彼此之间，都会互相给。\\n\\n因为斯图加特是打工城，有很多人，都是通过打工，来交朋友的\\n\\n在汉堡王的工资待遇还行，每月400欧不到。听起来不高，一年下来，也能挣4000多欧。不仅学业不会受影响，生活费也有了保障，还能买上回国的机票。\\n\\n暑假里的时间，还可以打另外一份工。就是去工厂的流水线，集中工作一个月。这一个月，可以有两三千欧得收入。再加上平时打工的收入，一年可以挣到六千多欧。这些足够支撑我在德国的生活。\\n\\n光打工也不行，我的首要任务，还是学习。\\nFH的学习，比较累。一年半的学制虽然短，但强度很高。课程多，作业多，上机操作等实际训练也多。一个学期，有七八门课。要想按时毕业，每个学期，都必须通过这些课。我们当时的要求是，如果一门课，三次考不过，学生必须退学。\\n\\n当时的班上，有个中国同学，打工打得太狠了。导致他有一门课，三次考试，都没过，退学了。后来，他转到德国的另外一个大学，把学业学完了。\\n\\n我们都觉得，他很可惜。\\n\\n那时，我们已经学到第二学期，都快毕业了。我们一般的补考，努力一下，基本上都是可以过的。他已经处于补考阶段，可还在打工，这样，学业肯定是被耽误了。\\n\\n\\n\\n无论如何，到德国来，还是要以学习为主。打工什么的，平时无所谓，考试期间，好歹把重心转移一下。\\n\\n\\n\\n\\n……………………………………\\n\\n书中有关话题与范畴，逐入：人文，社会，文化，哲学，历史，教育，医疗等；\\n\\n具有很高的阅读价值，参考价值，史料价值，收藏价值……\\n\\n\\n\\n对比、沉淀、融合、提升、超越，是《中国人在德国》的核心创作理念与思想。以此，全面有力的推动中国社会发展进程，真正做到：铸造大国，屹立东方，傲然世界！\\n\\n  \\n  \\n  \\n  \\n\\n\\n  \\n  \\n  \\n  \\n  \\n  \\n  \\n \\n扫码进《中国人在德国》读者群\\n\\n\\n……………………………\\n\\n\\n\\n内容简介：\\n\\n\\n\\n这里的人物影像，不是直观谫浅。而是迄今为止，唯一集中呈示在德华人的一本专著。\\n\\n书中文字，具有穿透力。通过阅读，能够让读者感受到，他们心域的宽度，广度，深度，以及每一寸气息里，饱含的温度。\\n\\n他们是不同的。个人成长，教育背景，出国原因，融入状态，东西方文化的碰撞与冲突；他们又都是相同的，他们都是华人在德国的一个缩影。\\n\\n他们每个人的内心，都是一个广袤的未知世界。也正是由此，他们构铸了在德华人的大千万象。\\n\\n就国家与民族而言，他们是弱小的，但在生命的进程中\\n，在不屈的闿拓中，他们又都是强大而无憾的！\\n\\n他们每个人的声音，都是中国的心跳。他们每个人的步履，都是中国的深脉。虽然他们都在德国，但他们都是有着一颗中国心！\\n\\n文字，是他们的灵魂，是无声的音符。\\n\\n不同阶层的阅读者，从中，都能找到自己想要的答案…\\n\\n\\n\\n…………………………………………………………………………\\n\\n\\n\\n书中主要内容：\\n\\n\\n\\n着力刻画人物的成长与蜕变。历尽万象艰辛后，在异国他乡，最终形成了独立个体。更深层的，是想把在德国的华人历练后的生存状态，用文字呈现给海内外的中国读者……\\n\\n所有的美景，不是天然而成。凤凰涅槃，烈焰燃烧后的重生，由内而外，都是极致的景象。\\n\\n“他们当中，有餐厅老板，自由职业者，科学家，机构职员（联邦政府公职），公司雇员，射击协会会长，律师，工程师，赛车教练，留学生，年轻夫妻等，他们是不同的。个人成长，教育背景，出国原因，融入状态，东西方文化的碰撞与冲突；他们又都是相同的，他们都是华人在德国的一个缩影。他们是浓墨，他们是重彩……他们每个人的内心，都是一个广袤的未知世界。也正是由此，他们构铸了在德华人的大千万象……”\\n\\n\\n\\n“所有的一切，抵达到他们，即是切面，也是交错融合的焦点。”\\n这是序言《他们是浓墨，他们是重彩》中的文字。\\n\\n\\n\\n在构思《中国人在德国》时，我是想尽可能，让每个人物，都能鲜活饱满起来。这只是外在的阅读感受……随着文字的流淌和加深，再让读者，去触探每个人物的内心。思想。及灵魂……再扩充到大我的家国情怀！根系处，仍是人物（被采访者）和读者难以割舍的羁绊与绕缠：一个小我的人，到底该怎样去生存，去融合，去追索等方面的思考……另一方面，作者也想表达：一个人，又该怎样活着，才能真正拥有人生的价值和意义！？\\n\\n\\n\\n整本书，处处都是看点。章章都有收获！\\n\\n\\n\\n………………………………………………\\n\\n《中国人在德国》腰封文案：\\n\\n\\n\\n一、《中国人在德国》\\n\\n灵魂，都已打开了！只在等你，静心阅读……\\n\\n\\n\\n亮点阅读：\\n\\n\\n\\n《中国人在德国》，不仅在国内会产生影响（尤其是青年学子），在德国的华人界也会产生影响…因为：迄今为止，无论是国内作家还是华人作家，都还没有写出一本《中国人在德国》的书。或者是类似的书…就像凌鼎年老师说的，写出欧洲的，也没有…《中国人在德国》是第一本。\\n\\n\\n\\n读者，通过此书的阅读，也会产生更强的民族凝聚力量。\\n\\n华人，他们每个人，不是一个人。他们是一群人。一个群体。他们是一种符号和象征…在德国，他们是中国人…他们是中国。他们的血管里，流淌着中国血液…他们站在德国的大地上。他们的身影，毅力着。从没倒下过…他们的身后，有强大的中国，在做支撑！所有文字，都是表象…物质，不仅有表象。真正有价值的，都是潜藏在内核…\\n\\n\\n\\n书中人物，除一人之外，其他人，都是以留学生身份，去往德国。\\n\\n现在的中国，是留学大国。每年，去国外留学的学生人数，都在递增。德国因为免学费，所以，去德国留学，是很多国内中层阶级孩子的向往。\\n\\n\\n\\n学生通过《中国人在德国》，可以了解到，留学德国后，所要面临和将来需要解决的各种问题。也可谓：此书，即是一本留学指南针…对于想去德国旅居和定居的中国人来说，此书，也可谓是一把解剖德国各阶层的手术刀。因为书中人物，已经渗透至德国社会各阶层，他们的亲临感受，让此类读者，通过文字阅读，即能做到恰当的选择与规避。以便让自己，能够在德国，求得最好的生存方式。\\n\\n学子睿才，追求与思考并行。书中，尽显东西方文化与教育的碰撞，互通，共融。\\n\\n通过阅读，人文，社会，文化，哲学，历史，教育，医疗等领域的读者，都会寻索到自己想要的答案……\\n\\n\\n\\n地球，已趋国际化…《中国人在德国》方方面面的生活、经历，所见所闻，所思所想，话题广泛，可令读者增广见闻。\\n\\n对于国内的各阶层阅读者，此书，既是了解德国的一个界面，也能让阅读者，通过文字本身，能够更深层的了解到：德国独有的文化特色和社会风情。通过阅读，神思上，会产生无尽遐想……\\n\\n……………………\\n\\n作者简介\\n\\n雅兰，著名作家，社会学家，旅德作家。以思想敏锐，文字敏锐，视角独特著称。游离于言论、散文、小说、诗歌等诸多文体。在公开发行的刊物及相关网页开设各版《雅兰专栏》。著书《中国很高兴》、《性殇》、《从压抑到泛滥》、《在我离开你之前》。\\n\\n因创作微型小说，而引发的风暴漩流，被中国文坛列为《新世纪以来的文学事件》之一。被《北京文学》杂志评为“2004年中国十大文化热点之一”。轰动中国文化界。与此同时，引发海内外海量媒体的关注与跟进报道。并在2018年，入选“江苏省改革开放40年最具影响的40篇微型小说”。\\n\\n………………\\n\\n雅兰信箱:\\n\\n\\n\\nshuiyanqinglian@126.com\\n\\n\\n\\n\\n\\n\\n\\n\\n\\n\\n\\n\\n\\n\\n\\n\\n\\n\\n\\n\\n\\n\\n'"
      ]
     },
     "execution_count": 15,
     "metadata": {},
     "output_type": "execute_result"
    }
   ],
   "source": [
    "article[0].text.replace(\"\\xa0\",\"\")"
   ]
  },
  {
   "cell_type": "code",
   "execution_count": 16,
   "metadata": {},
   "outputs": [],
   "source": [
    "#获取单篇文章中的图片链接\n",
    "wb_data = requests.get(url)\n",
    "soup = BeautifulSoup(wb_data.content)\n",
    "img_link = soup.select(\".articalContent.newfont_family\")[0].find_all(\"img\")[0].get(\"real_src\")"
   ]
  },
  {
   "cell_type": "code",
   "execution_count": 21,
   "metadata": {},
   "outputs": [
    {
     "data": {
      "text/plain": [
       "'https://s15.sinaimg.cn/mw690/001kMAGrzy840EQ9EPD19&690'"
      ]
     },
     "execution_count": 21,
     "metadata": {},
     "output_type": "execute_result"
    }
   ],
   "source": [
    "soup.select(\".articalContent.newfont_family\")[0].find_all(\"img\")[0].get(\"real_src\")"
   ]
  },
  {
   "cell_type": "code",
   "execution_count": 22,
   "metadata": {},
   "outputs": [],
   "source": [
    "#图片下载函数\n",
    "def downloadImg(img_url, file_path):\n",
    "    req = requests.get(url=img_url) \n",
    "    with open(file_path, 'wb') as f: \n",
    "        f.write(req.content)\n",
    "downloadImg(url,'1.jpg')"
   ]
  },
  {
   "cell_type": "markdown",
   "metadata": {},
   "source": [
    "以上理顺，就可以大刀阔斧地开干了。定义一个函数`to_word`，一个参数，就是上面获取到的数据字典`all_links`。设定好`header`，假装是浏览器在访问。然后新建一个word文档，设置全局字体为宋体。因为有些文章被加密，无法访问并获取内容，所以最终获取到的文章数不一定等于链接数。于是增加一个初始值为0的计数器，用于记录写入word文档中的文章数，以便心中有数。然后遍历所有文章的标题，将标题按照“1级”写入word文档，这样才能在“导航窗格”看到文章目录，方便后续选取阅读。日期和内容都作为段落写入。有些文章被加密，获取不到内容，此时`article`变量为空，所以加个if语句判断，以免程序崩溃。每写入一篇文章，计数器自动加1，然后通过`print`输出信息。最后保存文件，366页，35万字的博客就到手了，结果是美丽的！从此阅读博客文章轻松多了。"
   ]
  },
  {
   "cell_type": "code",
   "execution_count": 23,
   "metadata": {},
   "outputs": [
    {
     "name": "stdout",
     "output_type": "stream",
     "text": [
      "写入文章 《中国人在德国》连载265《德国是… 。\n",
      "写入文章 《中国人在德国》连载264《在德国… 。\n",
      "写入文章 《中国人在德国》连载263《在德国… 。\n",
      "写入文章 《中国人在德国》连载262《德国，… 。\n",
      "写入文章 《中国人在德国》连载261《在教授… 。\n",
      "写入文章 《中国人在德国》连载260《德国污… 。\n",
      "写入文章 《中国人在德国》连载259《骗我的… 。\n",
      "写入文章 《中国人在德国》连载258《在德国… 。\n",
      "写入文章 《中国人在德国》连载257《我是一… 。\n",
      "写入文章 《中国人在德国》连载256《德国不… 。\n",
      "写入文章 《中国人在德国》连载255《我们的… 。\n",
      "写入文章 《中国人在德国》连载254《我更看… 。\n",
      "写入文章 《中国人在德国》连载253《餐厅楼… 。\n",
      "写入文章 《中国人在德国》连载252《读硕士… 。\n",
      "写入文章 《中国人在德国》连载251《坚持到… 。\n",
      "写入文章 《中国人在德国》连载250《德国对… 。\n",
      "写入文章 《中国人在德国》连载249《中德最… 。\n",
      "写入文章 《中国人在德国》连载248《南北朝… 。\n",
      "写入文章 《中国人在德国》连载247《我是这… 。\n",
      "写入文章 《中国人在德国》连载246《我读了… 。\n",
      "写入文章 《中国人在德国》连载245《我在德… 。\n",
      "写入文章 《中国人在德国》连载244《斯特加… 。\n",
      "写入文章 《中国人在德国》连载243《DSH不是… 。\n",
      "写入文章 《中国人在德国》连载242《德国免… 。\n",
      "写入文章 《中国人在德国》连载241《德国人… 。\n",
      "写入文章 《中国人在德国》连载240《德国人… 。\n",
      "写入文章 《中国人在德国》连载239《就从德… 。\n",
      "写入文章 《中国人在德国》连载238《国内的… 。\n",
      "写入文章 《中国人在德国》连载237《人，竟… 。\n",
      "写入文章 《中国人在德国》连载236《都可以… 。\n",
      "写入文章 《中国人在德国》连载235《在德国… 。\n",
      "写入文章 《中国人在德国》连载234《从2010… 。\n",
      "写入文章 《中国人在德国》连载233《在心里… 。\n",
      "写入文章 《中国人在德国》连载232《我所谓… 。\n",
      "写入文章 《中国人在德国》连载231《没有最… 。\n",
      "写入文章 《中国人在德国》连载230《我是这… 。\n",
      "写入文章 《中国人在德国》连载229《只有我… 。\n",
      "写入文章 《中国人在德国》连载228《帮一次… 。\n",
      "写入文章 《中国人在德国》连载227《语言班… 。\n",
      "写入文章 《中国人在德国》连载226《中德之… 。\n",
      "写入文章 《中国人在德国》连载225《因为德… 。\n",
      "写入文章 《中国人在德国》连载224《在德国… 。\n",
      "写入文章 《中国人在德国》连载223《本来，… 。\n",
      "写入文章 《中国人在德国》连载222《现在，… 。\n",
      "写入文章 《中国人在德国》连载221《我会更… 。\n",
      "写入文章 《中国人在德国》连载220《移民对… 。\n",
      "写入文章 《中国人在德国》连载219《我从不… 。\n",
      "写入文章 《中国人在德国》连载218《德国改… 。\n",
      "写入文章 《中国人在德国》连载217《你究竟… 。\n",
      "写入文章 《中国人在德国》连载216《丧尽天… 。\n",
      "共写入 50 篇文章。\n"
     ]
    },
    {
     "ename": "NameError",
     "evalue": "name '保存完成' is not defined",
     "output_type": "error",
     "traceback": [
      "\u001b[1;31m---------------------------------------------------------------------------\u001b[0m",
      "\u001b[1;31mNameError\u001b[0m                                 Traceback (most recent call last)",
      "\u001b[1;32m~\\AppData\\Local\\Temp\\ipykernel_11400\\4021679727.py\u001b[0m in \u001b[0;36m<module>\u001b[1;34m\u001b[0m\n\u001b[0;32m     27\u001b[0m \u001b[1;33m\u001b[0m\u001b[0m\n\u001b[0;32m     28\u001b[0m \u001b[0mto_word\u001b[0m\u001b[1;33m(\u001b[0m\u001b[0mall_links\u001b[0m\u001b[1;33m)\u001b[0m\u001b[1;33m\u001b[0m\u001b[1;33m\u001b[0m\u001b[0m\n\u001b[1;32m---> 29\u001b[1;33m \u001b[0mprint\u001b[0m\u001b[1;33m(\u001b[0m\u001b[0m保存完成\u001b[0m\u001b[1;33m)\u001b[0m\u001b[1;33m\u001b[0m\u001b[1;33m\u001b[0m\u001b[0m\n\u001b[0m",
      "\u001b[1;31mNameError\u001b[0m: name '保存完成' is not defined"
     ]
    }
   ],
   "source": [
    "#写入标题，内容到word文件\n",
    "import docx\n",
    "from docx.oxml.ns import qn #用于应用中文字体\n",
    "\n",
    "def to_word(all_links):\n",
    "    header = {\"User-Agent\":\"Mozilla/5.0 (Windows NT 6.1; WOW64) AppleWebKit/537.36 (KHTML, like Gecko) Chrome/49.0.2623.221 Safari/537.36 SE 2.X MetaSr 1.0\"}\n",
    "    doc=docx.Document() #新建word文档\n",
    "    doc.styles['Normal'].font.name=u'宋体'\n",
    "    doc.styles['Normal']._element.rPr.rFonts.set(qn('w:eastAsia'), u'宋体')\n",
    "    \n",
    "    counter = 0 #计数器，用于记录写入word的文章数\n",
    "    for title in all_links.keys():\n",
    "        doc.add_heading(title,1)\n",
    "        date = all_links[title][1][:10]#只取日期，不要时间\n",
    "        doc.add_paragraph(date)\n",
    "        wb_data = requests.get(all_links[title][0],headers = header)\n",
    "        soup = BeautifulSoup(wb_data.content)        \n",
    "        article = soup.select(\".articalContent.newfont_family\")\n",
    "        #有些文章被加密，获取不到内容，此时article为空，所以加个if语句判断\n",
    "        if article:\n",
    "            text = article[0].text.replace(\"\\xa0\",\"\")\n",
    "            doc.add_paragraph(text)\n",
    "            print(f\"写入文章 {title} 。\")\n",
    "            counter += 1\n",
    "    print(f\"共写入 {counter} 篇文章。\")\n",
    "    doc.save(\"新浪微博文章.docx\")  \n",
    "    \n",
    "to_word(all_links)\n",
    "print('保存完成')"
   ]
  },
  {
   "cell_type": "markdown",
   "metadata": {},
   "source": [
    "![](images\\result.png)"
   ]
  }
 ],
 "metadata": {
  "kernelspec": {
   "display_name": "Python 3 (ipykernel)",
   "language": "python",
   "name": "python3"
  },
  "language_info": {
   "codemirror_mode": {
    "name": "ipython",
    "version": 3
   },
   "file_extension": ".py",
   "mimetype": "text/x-python",
   "name": "python",
   "nbconvert_exporter": "python",
   "pygments_lexer": "ipython3",
   "version": "3.9.13"
  }
 },
 "nbformat": 4,
 "nbformat_minor": 2
}
